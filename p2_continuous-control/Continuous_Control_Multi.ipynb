{
 "cells": [
  {
   "cell_type": "markdown",
   "metadata": {},
   "source": [
    "# Continuous Control\n",
    "\n",
    "---\n",
    "\n",
    "\n"
   ]
  },
  {
   "source": [
    "# DDPG Agent "
   ],
   "cell_type": "markdown",
   "metadata": {}
  },
  {
   "cell_type": "code",
   "execution_count": null,
   "metadata": {},
   "outputs": [],
   "source": [
    "import numpy as np\n",
    "import torch\n",
    "import matplotlib.pyplot as plt\n",
    "from collections import deque\n",
    "from statistics import mean, stdev\n",
    "\n",
    "from ENV import environment_loader"
   ]
  },
  {
   "cell_type": "code",
   "execution_count": null,
   "metadata": {},
   "outputs": [],
   "source": [
    "%load_ext autoreload\n",
    "%autoreload 2\n",
    "from AGENT import DDPG_Agent"
   ]
  },
  {
   "cell_type": "code",
   "execution_count": null,
   "metadata": {},
   "outputs": [],
   "source": [
    "env, state_size, action_size, brain_name, num_agents = environment_loader(\"Reacher_Single/Reacher.exe\", no_graphics = False)"
   ]
  },
  {
   "cell_type": "code",
   "execution_count": null,
   "metadata": {},
   "outputs": [],
   "source": [
    "def DDPG_eval(agent, env, max_t=100):\n",
    "    env_info = env.reset(train_mode=False)[brain_name]     # reset the environment    \n",
    "    states = env_info.vector_observations                  # get the current state (for each agent)\n",
    "    scores = np.zeros(num_agents)                          # initialize the score (for each agent)\n",
    "    episode_length = 0                                     # measure number of steps allowed before done flag\n",
    "    for i in range(max_t):\n",
    "        # actions = np.random.randn(num_agents, action_size) # select an action (for each agent); randomly!\n",
    "        actions =  np.random.randn(num_agents, action_size) if agent is None else agent.act(states[0]) # select an action (for each agent)\n",
    "        actions = np.clip(actions, -1, 1)                  # all actions between -1 and 1\n",
    "        env_info = env.step(actions)[brain_name]           # send all actions to the environment\n",
    "        next_states = env_info.vector_observations         # get next state (for each agent)\n",
    "        rewards = env_info.rewards                         # get reward (for each agent)\n",
    "        dones = env_info.local_done                        # see if episode finished\n",
    "        scores += env_info.rewards                         # update the score (for each agent)\n",
    "        states = next_states                               # roll over states to next time step\n",
    "        episode_length +=1\n",
    "        if np.any(dones):                                  # exit loop if episode finished\n",
    "            break\n",
    "    print('Episode length is {}'.format(episode_length))\n",
    "    print('Total score (averaged over agents) this episode: {}'.format(np.mean(scores)))"
   ]
  },
  {
   "cell_type": "code",
   "execution_count": null,
   "metadata": {},
   "outputs": [],
   "source": [
    "DDPG_eval(None, env, max_t=1)"
   ]
  },
  {
   "cell_type": "code",
   "execution_count": null,
   "metadata": {},
   "outputs": [],
   "source": [
    "def DDPG_train(agent, env, max_t=100, num_episodes = 1, print_every=100, existing_score=[]):\n",
    "    score_history = existing_score\n",
    "    print(\"Initial Score History: \", score_history)\n",
    "    scores_deque = deque(maxlen=print_every)\n",
    "    last_running_mean = float('-inf')\n",
    "\n",
    "    for episode in range(num_episodes):\n",
    "        env_info = env.reset(train_mode=True)[brain_name]      # reset the environment    \n",
    "        agent.reset()                                          # reset the noise in the agent\n",
    "        states = env_info.vector_observations                  # get the current state (for each agent)\n",
    "        scores = np.zeros(num_agents)                          # initialize the score (for each agent)\n",
    "        score = 0\n",
    "\n",
    "        for i in range(max_t):\n",
    "            actions = agent.act(states[0])                     # select an action (for each agent)\n",
    "            #actions = np.clip(actions, -1, 1)                 # all actions between -1 and 1. This is already done in the model\n",
    "            env_info = env.step(actions)[brain_name]           # send all actions to the environment\n",
    "            next_states = env_info.vector_observations         # get next state (for each agent)\n",
    "            rewards = env_info.rewards                         # get reward (for each agent)\n",
    "            dones = env_info.local_done                        # see if episode finished\n",
    "            #print(\"s {}, a {}, r {}, n_s {}, d{}\".format(states[0], actions, rewards[0], next_states[0], dones[0]))\n",
    "            agent.step(states[0], actions, rewards[0], next_states[0], dones[0])\n",
    "\n",
    "            #scores += env_info.rewards                         # update the score (for each agent)\n",
    "            score += env_info.rewards[0]\n",
    "\n",
    "            states = next_states                               # roll over states to next time step\n",
    "            if np.any(dones):                                  # exit loop if episode finished\n",
    "                break\n",
    "        \n",
    "\n",
    "        #returns_in_episode = np.mean(scores)\n",
    "        returns_in_episode = score\n",
    "        scores_deque.append(returns_in_episode)\n",
    "        score_history.append(returns_in_episode)\n",
    "        if episode > print_every:\n",
    "            if mean(scores_deque) > last_running_mean:\n",
    "                    print(\"\")\n",
    "                    print('Last {} was better, going to save it'.format(print_every))\n",
    "                    torch.save(new_agent.actor_local.state_dict(), 'checkpoint_actor.pth')\n",
    "                    torch.save(new_agent.critic_local.state_dict(), 'checkpoint_critic.pth')\n",
    "                    last_running_mean = mean(scores_deque)\n",
    "\n",
    "        print(\"\\r\", 'Total score (averaged over agents) {} episode: {} | \\tAvarage in last {} is {}'.format(episode, returns_in_episode, print_every, np.mean(scores_deque)), end=\"\")\n",
    "        ##print(\"\\r\", 'Scores in {} episode: {}'.format(episode, scores), end=\"\")\n",
    "    \n",
    "\n",
    "    return score_history"
   ]
  },
  {
   "cell_type": "code",
   "execution_count": null,
   "metadata": {},
   "outputs": [],
   "source": [
    "import os.path\n",
    "\n",
    "filename=\"checkpoint_actor.pth\"\n",
    "path = \"\"\n",
    "\n",
    "def fileAtLocation(filename, path):\n",
    "    return os.path.exists(path + filename)\n",
    "\n",
    "def load_previous(new_agent):\n",
    "    loaded_agent = new_agent\n",
    "    if fileAtLocation(filename, path):\n",
    "        print(\"Found previous trained Agent, going to load them!\")\n",
    "        loaded_agent.actor_local.load_state_dict(torch.load('checkpoint_actor.pth'))\n",
    "        loaded_agent.critic_local.load_state_dict(torch.load('checkpoint_critic.pth'))\n",
    "    return loaded_agent"
   ]
  },
  {
   "cell_type": "code",
   "execution_count": null,
   "metadata": {},
   "outputs": [],
   "source": [
    "new_agent = DDPG_Agent(state_size, action_size, 1, actor_hidden = [128, 128, 128], critic_hidden=[128, 128, 128])\n",
    "##new_agent = load_previous(new_agent)"
   ]
  },
  {
   "cell_type": "code",
   "execution_count": null,
   "metadata": {
    "tags": []
   },
   "outputs": [],
   "source": [
    "##env.no_graphics = True\n",
    "score_history = DDPG_train(new_agent, env, max_t = 1001, num_episodes = 150)\n",
    "#print(score_history)"
   ]
  },
  {
   "cell_type": "code",
   "execution_count": null,
   "metadata": {},
   "outputs": [],
   "source": [
    "score_history = DDPG_train(new_agent, env, max_t = 1001, num_episodes = 150, existing_score=score_history)"
   ]
  },
  {
   "cell_type": "code",
   "execution_count": null,
   "metadata": {},
   "outputs": [],
   "source": [
    "print(score_history)\n",
    "print(len(score_history))\n",
    "fig = plt.figure()\n",
    "ax = fig.add_subplot(111)\n",
    "plt.plot(np.arange(1, len(score_history)+1), score_history)\n",
    "plt.ylabel('Score')\n",
    "plt.xlabel('Episode #')\n",
    "plt.show()"
   ]
  },
  {
   "cell_type": "code",
   "execution_count": null,
   "metadata": {
    "tags": []
   },
   "outputs": [],
   "source": [
    "%load_ext autoreload\n",
    "%autoreload 2\n",
    "from AGENT import DDPG_Agent\n",
    "\n",
    "new_agent = DDPG_Agent(state_size, action_size, 5)\n",
    "new_agent = load_previous(new_agent)"
   ]
  },
  {
   "cell_type": "code",
   "execution_count": null,
   "metadata": {},
   "outputs": [],
   "source": [
    "DDPG_eval(new_agent, env, max_t = 100000000000)"
   ]
  },
  {
   "cell_type": "code",
   "execution_count": null,
   "metadata": {},
   "outputs": [],
   "source": [
    "env.close()"
   ]
  },
  {
   "cell_type": "code",
   "execution_count": null,
   "metadata": {},
   "outputs": [],
   "source": [
    "torch.cuda.is_available()"
   ]
  },
  {
   "cell_type": "code",
   "execution_count": null,
   "metadata": {},
   "outputs": [],
   "source": []
  },
  {
   "cell_type": "code",
   "execution_count": null,
   "metadata": {},
   "outputs": [],
   "source": []
  }
 ],
 "metadata": {
  "kernelspec": {
   "name": "python3612jvsc74a57bd021b14e6ae810b98687c42101764fbc6ed2f749f10b37141b42930ea65db4f89b",
   "display_name": "Python 3.6.12 64-bit ('drlnd': conda)"
  }
 },
 "nbformat": 4,
 "nbformat_minor": 2
}