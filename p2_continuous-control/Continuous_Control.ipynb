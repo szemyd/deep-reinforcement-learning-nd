{
 "cells": [
  {
   "cell_type": "markdown",
   "metadata": {},
   "source": [
    "# Continuous Control\n",
    "\n",
    "---\n",
    "\n",
    "\n"
   ]
  },
  {
   "source": [
    "# DDPG Agent "
   ],
   "cell_type": "markdown",
   "metadata": {}
  },
  {
   "source": [
    "# Import necessary modules"
   ],
   "cell_type": "markdown",
   "metadata": {}
  },
  {
   "cell_type": "code",
   "execution_count": 1,
   "metadata": {},
   "outputs": [],
   "source": [
    "# --- General NN and math libraries --- #\n",
    "import numpy as np\n",
    "import torch\n",
    "\n",
    "# --- For Measuring performance --- #\n",
    "from collections import deque\n",
    "from statistics import mean, stdev\n",
    "import matplotlib.pyplot as plt\n",
    "\n",
    "# --- For Loading the environment --- #\n",
    "from ENV import environment_loader"
   ]
  },
  {
   "cell_type": "code",
   "execution_count": 4,
   "metadata": {},
   "outputs": [
    {
     "output_type": "stream",
     "name": "stdout",
     "text": [
      "The autoreload extension is already loaded. To reload it, use:\n  %reload_ext autoreload\n"
     ]
    }
   ],
   "source": [
    "# --- For Loading the agent --- #\n",
    "# We don't need to reimport the agent everytime we change one of it's values\n",
    "%load_ext autoreload\n",
    "%autoreload 2\n",
    "from AGENT import DDPG_Agent"
   ]
  },
  {
   "source": [
    "# Load Environment\n",
    "Environment is loaded with a helper function in ENV.py\n",
    "The helper function returns the envrionment object, the state size and action size, the brain's name and how many agents there are in the environment"
   ],
   "cell_type": "markdown",
   "metadata": {}
  },
  {
   "cell_type": "code",
   "execution_count": 5,
   "metadata": {},
   "outputs": [
    {
     "output_type": "stream",
     "name": "stderr",
     "text": [
      "INFO:unityagents:\n",
      "'Academy' started successfully!\n",
      "Unity Academy name: Academy\n",
      "        Number of Brains: 1\n",
      "        Number of External Brains : 1\n",
      "        Lesson number : 0\n",
      "        Reset Parameters :\n",
      "\t\tgoal_speed -> 1.0\n",
      "\t\tgoal_size -> 5.0\n",
      "Unity brain name: ReacherBrain\n",
      "        Number of Visual Observations (per agent): 0\n",
      "        Vector Observation space type: continuous\n",
      "        Vector Observation space size (per agent): 33\n",
      "        Number of stacked Vector Observation: 1\n",
      "        Vector Action space type: continuous\n",
      "        Vector Action space size (per agent): 4\n",
      "        Vector Action descriptions: , , , \n",
      "Number of agents: 1\n",
      "Size of each action: 4\n",
      "There are 1 agents. Each observes a state with length: 33\n",
      "The state for the first agent looks like: [ 0.00000000e+00 -4.00000000e+00  0.00000000e+00  1.00000000e+00\n",
      " -0.00000000e+00 -0.00000000e+00 -4.37113883e-08  0.00000000e+00\n",
      "  0.00000000e+00  0.00000000e+00  0.00000000e+00  0.00000000e+00\n",
      "  0.00000000e+00  0.00000000e+00 -1.00000000e+01  0.00000000e+00\n",
      "  1.00000000e+00 -0.00000000e+00 -0.00000000e+00 -4.37113883e-08\n",
      "  0.00000000e+00  0.00000000e+00  0.00000000e+00  0.00000000e+00\n",
      "  0.00000000e+00  0.00000000e+00  5.75471878e+00 -1.00000000e+00\n",
      "  5.55726671e+00  0.00000000e+00  1.00000000e+00  0.00000000e+00\n",
      " -1.68164849e-01]\n"
     ]
    }
   ],
   "source": [
    "\n",
    "env, state_size, action_size, brain_name, num_agents = environment_loader(\"Reacher_Single/Reacher.exe\", no_graphics = True)\n"
   ]
  },
  {
   "source": [
    "# Train Agent"
   ],
   "cell_type": "markdown",
   "metadata": {}
  },
  {
   "cell_type": "code",
   "execution_count": 6,
   "metadata": {},
   "outputs": [],
   "source": [
    "def DDPG_train(agent, env, max_t=100, num_episodes = 1, print_every=100, existing_score=[]):\n",
    "    score_history = existing_score\n",
    "    print(\"Initial Score History length: \", len(score_history))\n",
    "    scores_deque = deque(maxlen=print_every)\n",
    "    last_running_mean = float('-inf')\n",
    "\n",
    "    for episode in range(num_episodes):\n",
    "        env_info = env.reset(train_mode=True)[brain_name]      # reset the environment    \n",
    "        agent.reset()                                          # reset the noise in the agent\n",
    "        states = env_info.vector_observations                  # get the current state (for each agent)\n",
    "        scores = np.zeros(num_agents)                          # initialize the score (for each agent)\n",
    "        score = 0\n",
    "\n",
    "        for i in range(max_t):\n",
    "            actions = agent.act(states[0])                     # select an action (for each agent)\n",
    "            env_info = env.step(actions)[brain_name]           # send all actions to the environment\n",
    "            \n",
    "            next_states = env_info.vector_observations         # get next state (for each agent)\n",
    "            rewards = env_info.rewards                         # get reward (for each agent)\n",
    "            dones = env_info.local_done                        # see if episode finished\n",
    "\n",
    "            agent.step(states[0], actions, rewards[0], next_states[0], dones[0])\n",
    "\n",
    "            score += env_info.rewards[0]\n",
    "\n",
    "            states = next_states                               # roll over states to next time step\n",
    "            if np.any(dones):                                  # exit loop if episode finished\n",
    "                break\n",
    "        \n",
    "\n",
    "        #returns_in_episode = np.mean(scores)\n",
    "        returns_in_episode = score\n",
    "        scores_deque.append(returns_in_episode)\n",
    "        score_history.append(returns_in_episode)\n",
    "        if episode > print_every:\n",
    "            if mean(scores_deque) > last_running_mean:\n",
    "                    print(\"\")\n",
    "                    print('Last {} was better, going to save it'.format(print_every))\n",
    "                    torch.save(new_agent.actor_local.state_dict(), 'checkpoint_actor.pth')\n",
    "                    torch.save(new_agent.critic_local.state_dict(), 'checkpoint_critic.pth')\n",
    "                    last_running_mean = mean(scores_deque)\n",
    "\n",
    "        print(\"\\r\", 'Total score (averaged over agents) {} episode: {} | \\tAvarage in last {} is {}'.format(episode, returns_in_episode, print_every, np.mean(scores_deque)), end=\"\")\n",
    "        ##print(\"\\r\", 'Scores in {} episode: {}'.format(episode, scores), end=\"\")\n",
    "    \n",
    "\n",
    "    return score_history"
   ]
  },
  {
   "cell_type": "code",
   "execution_count": 7,
   "metadata": {},
   "outputs": [],
   "source": [
    "import os.path\n",
    "\n",
    "filename=\"checkpoint_actor.pth\"\n",
    "path = \"\"\n",
    "\n",
    "def fileAtLocation(filename, path):\n",
    "    return os.path.exists(path + filename)\n",
    "\n",
    "def load_previous(new_agent):\n",
    "    loaded_agent = new_agent\n",
    "    if fileAtLocation(filename, path):\n",
    "        print(\"Found previous trained Agent, going to load them!\")\n",
    "        loaded_agent.actor_local.load_state_dict(torch.load('checkpoint_actor.pth'))\n",
    "        loaded_agent.critic_local.load_state_dict(torch.load('checkpoint_critic.pth'))\n",
    "    return loaded_agent"
   ]
  },
  {
   "cell_type": "code",
   "execution_count": 8,
   "metadata": {},
   "outputs": [
    {
     "output_type": "stream",
     "name": "stdout",
     "text": [
      "\n--- Agent Params ---\nGoing to train on cuda:0\nLearning Rate:: Actor: 0.0001 | Critic: 0.0001\nReplay Buffer:: Buffer Size: 100000 | Sampled Batch size: 100\n\nActor paramaters:: Input: 33 | Hidden Layers: [128, 128] | Output: 4\nCritic paramaters:: Input: 33 | Hidden Layers: [132, 128] | Output: 1\nActor(\n  (fc_in): Linear(in_features=33, out_features=128, bias=True)\n  (hidden_layers): ModuleList(\n    (0): Linear(in_features=128, out_features=128, bias=True)\n  )\n  (fc_out): Linear(in_features=128, out_features=4, bias=True)\n)\nCritic(\n  (fc_in): Linear(in_features=33, out_features=128, bias=True)\n  (hidden_layers): ModuleList(\n    (0): Linear(in_features=132, out_features=128, bias=True)\n  )\n  (fc_out): Linear(in_features=128, out_features=1, bias=True)\n)\n\n\n"
     ]
    }
   ],
   "source": [
    "new_agent = DDPG_Agent(state_size, action_size, 1, actor_hidden = [128, 128], critic_hidden=[128, 128])\n"
   ]
  },
  {
   "cell_type": "code",
   "execution_count": 9,
   "metadata": {
    "tags": [
     "outputPrepend"
    ]
   },
   "outputs": [
    {
     "output_type": "stream",
     "name": "stdout",
     "text": [
      " 100 is 15.752899647895246\n",
      "Last 100 was better, going to save it\n",
      " Total score (averaged over agents) 204 episode: 23.23999948054552 | \tAvarage in last 100 is 15.90219964455813\n",
      "Last 100 was better, going to save it\n",
      " Total score (averaged over agents) 205 episode: 22.519999496638775 | \tAvarage in last 100 is 16.017499641980976\n",
      "Last 100 was better, going to save it\n",
      " Total score (averaged over agents) 206 episode: 24.89999944344163 | \tAvarage in last 100 is 16.129199639484288\n",
      "Last 100 was better, going to save it\n",
      " Total score (averaged over agents) 207 episode: 14.709999671205878 | \tAvarage in last 100 is 16.211899637635796\n",
      "Last 100 was better, going to save it\n",
      " Total score (averaged over agents) 208 episode: 19.929999554529786 | \tAvarage in last 100 is 16.33589963486418\n",
      "Last 100 was better, going to save it\n",
      " Total score (averaged over agents) 209 episode: 21.989999508485198 | \tAvarage in last 100 is 16.430599632747473\n",
      "Last 100 was better, going to save it\n",
      " Total score (averaged over agents) 210 episode: 32.239999279379845 | \tAvarage in last 100 is 16.702399626672268\n",
      "Last 100 was better, going to save it\n",
      " Total score (averaged over agents) 211 episode: 25.419999431818724 | \tAvarage in last 100 is 16.868899622950703\n",
      "Last 100 was better, going to save it\n",
      " Total score (averaged over agents) 212 episode: 20.24999954737723 | \tAvarage in last 100 is 16.969899620693177\n",
      "Last 100 was better, going to save it\n",
      " Total score (averaged over agents) 213 episode: 29.34999934397638 | \tAvarage in last 100 is 17.181899615954606\n",
      "Last 100 was better, going to save it\n",
      " Total score (averaged over agents) 214 episode: 31.689999291673303 | \tAvarage in last 100 is 17.373499611672013\n",
      "Last 100 was better, going to save it\n",
      " Total score (averaged over agents) 215 episode: 24.679999448359013 | \tAvarage in last 100 is 17.5406996079348\n",
      "Last 100 was better, going to save it\n",
      " Total score (averaged over agents) 216 episode: 22.609999494627118 | \tAvarage in last 100 is 17.649699605498462\n",
      "Last 100 was better, going to save it\n",
      " Total score (averaged over agents) 217 episode: 18.829999579116702 | \tAvarage in last 100 is 17.749599603265523\n",
      "Last 100 was better, going to save it\n",
      " Total score (averaged over agents) 218 episode: 24.50999945215881 | \tAvarage in last 100 is 17.880399600341917\n",
      "Last 100 was better, going to save it\n",
      " Total score (averaged over agents) 219 episode: 28.059999372810125 | \tAvarage in last 100 is 18.044199596680702\n",
      "Last 100 was better, going to save it\n",
      " Total score (averaged over agents) 220 episode: 25.539999429136515 | \tAvarage in last 100 is 18.199899593200534\n",
      "Last 100 was better, going to save it\n",
      " Total score (averaged over agents) 221 episode: 31.36999929882586 | \tAvarage in last 100 is 18.31379959065467\n",
      "Last 100 was better, going to save it\n",
      " Total score (averaged over agents) 222 episode: 29.209999347105622 | \tAvarage in last 100 is 18.541799585558476\n",
      "Last 100 was better, going to save it\n",
      " Total score (averaged over agents) 223 episode: 24.579999450594187 | \tAvarage in last 100 is 18.675499582570048\n",
      "Last 100 was better, going to save it\n",
      " Total score (averaged over agents) 224 episode: 33.829999243840575 | \tAvarage in last 100 is 18.89789957759902\n",
      "Last 100 was better, going to save it\n",
      " Total score (averaged over agents) 225 episode: 32.88999926485121 | \tAvarage in last 100 is 19.115399572737516\n",
      "Last 100 was better, going to save it\n",
      " Total score (averaged over agents) 226 episode: 25.839999422430992 | \tAvarage in last 100 is 19.245999569818377\n",
      "Last 100 was better, going to save it\n",
      " Total score (averaged over agents) 227 episode: 20.959999531507492 | \tAvarage in last 100 is 19.282199569009244\n",
      "Last 100 was better, going to save it\n",
      " Total score (averaged over agents) 228 episode: 31.239999301731586 | \tAvarage in last 100 is 19.440799565464257\n",
      "Last 100 was better, going to save it\n",
      " Total score (averaged over agents) 229 episode: 21.479999519884586 | \tAvarage in last 100 is 19.614999561570585\n",
      "Last 100 was better, going to save it\n",
      " Total score (averaged over agents) 230 episode: 23.909999465569854 | \tAvarage in last 100 is 19.76509955821559\n",
      "Last 100 was better, going to save it\n",
      " Total score (averaged over agents) 231 episode: 26.419999409466982 | \tAvarage in last 100 is 19.974399553537367\n",
      "Last 100 was better, going to save it\n",
      " Total score (averaged over agents) 232 episode: 20.429999543353915 | \tAvarage in last 100 is 20.01789955256507\n",
      "Last 100 was better, going to save it\n",
      " Total score (averaged over agents) 233 episode: 27.039999395608902 | \tAvarage in last 100 is 20.219699548054486\n",
      "Last 100 was better, going to save it\n",
      " Total score (averaged over agents) 234 episode: 26.479999408125877 | \tAvarage in last 100 is 20.353299545068293\n",
      "Last 100 was better, going to save it\n",
      " Total score (averaged over agents) 235 episode: 29.599999338388443 | \tAvarage in last 100 is 20.47489954235032\n",
      "Last 100 was better, going to save it\n",
      " Total score (averaged over agents) 236 episode: 20.52999954111874 | \tAvarage in last 100 is 20.551999540627\n",
      "Last 100 was better, going to save it\n",
      " Total score (averaged over agents) 237 episode: 32.33999927714467 | \tAvarage in last 100 is 20.749399536214767\n",
      "Last 100 was better, going to save it\n",
      " Total score (averaged over agents) 238 episode: 17.629999605938792 | \tAvarage in last 100 is 20.821399534605444\n",
      "Last 100 was better, going to save it\n",
      " Total score (averaged over agents) 239 episode: 30.729999313130975 | \tAvarage in last 100 is 20.9775995311141\n",
      "Last 100 was better, going to save it\n",
      " Total score (averaged over agents) 240 episode: 22.359999500215054 | \tAvarage in last 100 is 21.024699530061334\n",
      "Last 100 was better, going to save it\n",
      " Total score (averaged over agents) 241 episode: 31.32999929971993 | \tAvarage in last 100 is 21.24279952518642\n",
      "Last 100 was better, going to save it\n",
      " Total score (averaged over agents) 242 episode: 29.419999342411757 | \tAvarage in last 100 is 21.425699521098284\n",
      "Last 100 was better, going to save it\n",
      " Total score (averaged over agents) 243 episode: 32.59999927133322 | \tAvarage in last 100 is 21.611999516934155\n",
      "Last 100 was better, going to save it\n",
      " Total score (averaged over agents) 244 episode: 28.339999366551638 | \tAvarage in last 100 is 21.775499513279648\n",
      "Last 100 was better, going to save it\n",
      " Total score (averaged over agents) 245 episode: 26.4099994096905 | \tAvarage in last 100 is 21.887799510769547\n",
      "Last 100 was better, going to save it\n",
      " Total score (averaged over agents) 246 episode: 17.399999611079693 | \tAvarage in last 100 is 21.921699510011823\n",
      "Last 100 was better, going to save it\n",
      " Total score (averaged over agents) 247 episode: 25.12999943830073 | \tAvarage in last 100 is 21.992599508427084\n",
      "Last 100 was better, going to save it\n",
      " Total score (averaged over agents) 248 episode: 29.679999336600304 | \tAvarage in last 100 is 22.09649950610474\n",
      "Last 100 was better, going to save it\n",
      " Total score (averaged over agents) 249 episode: 26.319999411702156 | \tAvarage in last 100 is 22.131899505313484\n",
      "Last 100 was better, going to save it\n",
      " Total score (averaged over agents) 250 episode: 22.11999950557947 | \tAvarage in last 100 is 22.21299950350076\n",
      "Last 100 was better, going to save it\n",
      " Total score (averaged over agents) 251 episode: 21.249999525025487 | \tAvarage in last 100 is 22.3049995014444\n",
      "Last 100 was better, going to save it\n",
      " Total score (averaged over agents) 252 episode: 23.949999464675784 | \tAvarage in last 100 is 22.385899499636142\n",
      "Last 100 was better, going to save it\n",
      " Total score (averaged over agents) 253 episode: 26.009999418631196 | \tAvarage in last 100 is 22.468999497778714\n",
      "Last 100 was better, going to save it\n",
      " Total score (averaged over agents) 254 episode: 24.599999450147152 | \tAvarage in last 100 is 22.616199494488537\n",
      "Last 100 was better, going to save it\n",
      " Total score (averaged over agents) 255 episode: 30.569999316707253 | \tAvarage in last 100 is 22.833299489635973\n",
      "Last 100 was better, going to save it\n",
      " Total score (averaged over agents) 256 episode: 27.349999388679862 | \tAvarage in last 100 is 22.99239948607981\n",
      "Last 100 was better, going to save it\n",
      " Total score (averaged over agents) 257 episode: 31.439999297261238 | \tAvarage in last 100 is 23.116699483301492\n",
      "Last 100 was better, going to save it\n",
      " Total score (averaged over agents) 258 episode: 36.81999917700887 | \tAvarage in last 100 is 23.24179948050529\n",
      "Last 100 was better, going to save it\n",
      " Total score (averaged over agents) 259 episode: 22.68999949283898 | \tAvarage in last 100 is 23.364799477756023\n",
      "Last 100 was better, going to save it\n",
      " Total score (averaged over agents) 260 episode: 16.129999639466405 | \tAvarage in last 100 is 23.37919947743416\n",
      "Last 100 was better, going to save it\n",
      " Total score (averaged over agents) 261 episode: 21.129999527707696 | \tAvarage in last 100 is 23.426799476370217\n",
      "Last 100 was better, going to save it\n",
      " Total score (averaged over agents) 263 episode: 3.4299999233335257 | \tAvarage in last 100 is 23.38519947730005\n",
      "Last 100 was better, going to save it\n",
      " Total score (averaged over agents) 264 episode: 34.85999922081828 | \tAvarage in last 100 is 23.526599474139513\n",
      "Last 100 was better, going to save it\n",
      " Total score (averaged over agents) 265 episode: 27.639999382197857 | \tAvarage in last 100 is 23.66559947103262\n",
      "Last 100 was better, going to save it\n",
      " Total score (averaged over agents) 267 episode: 10.389999767765403 | \tAvarage in last 100 is 23.6738994708471\n",
      "Last 100 was better, going to save it\n",
      " Total score (averaged over agents) 268 episode: 33.64999924786389 | \tAvarage in last 100 is 23.754499469045548\n",
      "Last 100 was better, going to save it\n",
      " Total score (averaged over agents) 269 episode: 33.88999924249947 | \tAvarage in last 100 is 23.911699465531857\n",
      "Last 100 was better, going to save it\n",
      " Total score (averaged over agents) 270 episode: 23.259999480098486 | \tAvarage in last 100 is 24.00839946337044\n",
      "Last 100 was better, going to save it\n",
      " Total score (averaged over agents) 271 episode: 32.819999266415834 | \tAvarage in last 100 is 24.13249946059659\n",
      "Last 100 was better, going to save it\n",
      " Total score (averaged over agents) 272 episode: 33.629999248310924 | \tAvarage in last 100 is 24.31749945646152\n",
      "Last 100 was better, going to save it\n",
      " Total score (averaged over agents) 274 episode: 16.45999963209033 | \tAvarage in last 100 is 24.420999454148113\n",
      "Last 100 was better, going to save it\n",
      " Total score (averaged over agents) 275 episode: 32.51999927312136 | \tAvarage in last 100 is 24.574399450719355\n",
      "Last 100 was better, going to save it\n",
      " Total score (averaged over agents) 276 episode: 39.11999912559986 | \tAvarage in last 100 is 24.722899447400124\n",
      "Last 100 was better, going to save it\n",
      " Total score (averaged over agents) 277 episode: 24.689999448135495 | \tAvarage in last 100 is 24.794599445797502\n",
      "Last 100 was better, going to save it\n",
      " Total score (averaged over agents) 278 episode: 36.50999918393791 | \tAvarage in last 100 is 24.978899441678077\n",
      "Last 100 was better, going to save it\n",
      " Total score (averaged over agents) 279 episode: 28.11999937146902 | \tAvarage in last 100 is 25.1459994379431\n",
      "Last 100 was better, going to save it\n",
      " Total score (averaged over agents) 280 episode: 35.15999921411276 | \tAvarage in last 100 is 25.318699434082955\n",
      "Last 100 was better, going to save it\n",
      " Total score (averaged over agents) 281 episode: 25.659999426454306 | \tAvarage in last 100 is 25.359499433171003\n",
      "Last 100 was better, going to save it\n",
      " Total score (averaged over agents) 283 episode: 28.399999365210533 | \tAvarage in last 100 is 25.472899430636318\n",
      "Last 100 was better, going to save it\n",
      " Total score (averaged over agents) 284 episode: 33.789999244734645 | \tAvarage in last 100 is 25.52539942946285\n",
      "Last 100 was better, going to save it\n",
      " Total score (averaged over agents) 285 episode: 25.82999942265451 | \tAvarage in last 100 is 25.53849942917004\n",
      "Last 100 was better, going to save it\n",
      " Total score (averaged over agents) 286 episode: 35.729999201372266 | \tAvarage in last 100 is 25.637799426950515\n",
      "Last 100 was better, going to save it\n",
      " Total score (averaged over agents) 287 episode: 31.689999291673303 | \tAvarage in last 100 is 25.73779942471534\n",
      "Last 100 was better, going to save it\n",
      " Total score (averaged over agents) 289 episode: 15.119999662041664 | \tAvarage in last 100 is 25.676999426074325\n",
      "Last 100 was better, going to save it\n",
      " Total score (averaged over agents) 291 episode: 12.719999715685844 | \tAvarage in last 100 is 25.71109942531213\n",
      "Last 100 was better, going to save it\n",
      " Total score (averaged over agents) 292 episode: 30.079999327659607 | \tAvarage in last 100 is 25.79889942334965\n",
      "Last 100 was better, going to save it\n",
      " Total score (averaged over agents) 293 episode: 30.159999325871468 | \tAvarage in last 100 is 25.90789942091331\n",
      "Last 100 was better, going to save it\n",
      " Total score (averaged over agents) 294 episode: 28.73999935761094 | \tAvarage in last 100 is 26.023499418329447\n",
      "Last 100 was better, going to save it\n",
      " Total score (averaged over agents) 296 episode: 22.07999950647354 | \tAvarage in last 100 is 26.12219941612333\n",
      "Last 100 was better, going to save it\n",
      " Total score (averaged over agents) 297 episode: 29.729999335482717 | \tAvarage in last 100 is 26.244299413394184\n",
      "Last 100 was better, going to save it\n",
      " Total score (averaged over agents) 298 episode: 30.109999326989055 | \tAvarage in last 100 is 26.325499411579223\n",
      "Last 100 was better, going to save it\n",
      " Total score (averaged over agents) 299 episode: 33.479999251663685 | \tAvarage in last 100 is 26.4261994093284\n",
      "Last 100 was better, going to save it\n",
      " Total score (averaged over agents) 300 episode: 33.789999244734645 | \tAvarage in last 100 is 26.52149940719828\n",
      "Last 100 was better, going to save it\n",
      " Total score (averaged over agents) 301 episode: 26.4099994096905 | \tAvarage in last 100 is 26.54969940656796\n",
      "Last 100 was better, going to save it\n",
      " Total score (averaged over agents) 302 episode: 33.2399992570281 | \tAvarage in last 100 is 26.61369940513745\n",
      "Last 100 was better, going to save it\n",
      " Total score (averaged over agents) 303 episode: 36.58999918214977 | \tAvarage in last 100 is 26.74199940226972\n",
      "Last 100 was better, going to save it\n",
      " Total score (averaged over agents) 304 episode: 38.71999913454056 | \tAvarage in last 100 is 26.896799398809673\n",
      "Last 100 was better, going to save it\n",
      " Total score (averaged over agents) 305 episode: 29.099999349564314 | \tAvarage in last 100 is 26.962599397338927\n",
      "Last 100 was better, going to save it\n",
      " Total score (averaged over agents) 306 episode: 34.60999922640622 | \tAvarage in last 100 is 27.059699395168572\n",
      "Last 100 was better, going to save it\n",
      " Total score (averaged over agents) 307 episode: 28.22999936901033 | \tAvarage in last 100 is 27.194899392146617\n",
      "Last 100 was better, going to save it\n",
      " Total score (averaged over agents) 308 episode: 35.69999920204282 | \tAvarage in last 100 is 27.352599388621748\n",
      "Last 100 was better, going to save it\n",
      " Total score (averaged over agents) 310 episode: 30.429999319836497 | \tAvarage in last 100 is 27.34409938881174\n",
      "Last 100 was better, going to save it\n",
      " Total score (averaged over agents) 311 episode: 35.339999210089445 | \tAvarage in last 100 is 27.443299386594443\n",
      "Last 100 was better, going to save it\n",
      " Total score (averaged over agents) 312 episode: 34.42999923042953 | \tAvarage in last 100 is 27.585099383424968\n",
      "Last 100 was better, going to save it\n",
      " Total score (averaged over agents) 314 episode: 23.139999482780695 | \tAvarage in last 100 is 27.516599384956063\n",
      "Last 100 was better, going to save it\n",
      " Total score (averaged over agents) 315 episode: 33.26999925635755 | \tAvarage in last 100 is 27.602499383036047\n",
      "Last 100 was better, going to save it\n",
      " Total score (averaged over agents) 316 episode: 25.0899994391948 | \tAvarage in last 100 is 27.627299382481723\n",
      "Last 100 was better, going to save it\n",
      " Total score (averaged over agents) 317 episode: 28.069999372586608 | \tAvarage in last 100 is 27.719699380416422\n",
      "Last 100 was better, going to save it\n",
      " Total score (averaged over agents) 318 episode: 37.24999916739762 | \tAvarage in last 100 is 27.84709937756881\n",
      "Last 100 was better, going to save it\n",
      " Total score (averaged over agents) 319 episode: 34.569999227300286 | \tAvarage in last 100 is 27.912199376113712\n",
      "Last 100 was better, going to save it\n",
      " Total score (averaged over agents) 320 episode: 35.13999921455979 | \tAvarage in last 100 is 28.008199373967944\n",
      "Last 100 was better, going to save it\n",
      " Total score (averaged over agents) 322 episode: 27.80999937839806 | \tAvarage in last 100 is 28.04639937311411\n",
      "Last 100 was better, going to save it\n",
      " Total score (averaged over agents) 328 episode: 32.469999274238944 | \tAvarage in last 100 is 27.92499937582761\n",
      "Last 100 was better, going to save it\n",
      " Total score (averaged over agents) 329 episode: 39.50999911688268 | \tAvarage in last 100 is 28.105299371797592\n",
      "Last 100 was better, going to save it\n",
      " Total score (averaged over agents) 333 episode: 31.21999930217862 | \tAvarage in last 100 is 28.071399372555316\n",
      "Last 100 was better, going to save it\n",
      " Total score (averaged over agents) 334 episode: 37.67999915778637 | \tAvarage in last 100 is 28.18339937005192\n",
      "Last 100 was better, going to save it\n",
      " Total score (averaged over agents) 335 episode: 36.42999918572605 | \tAvarage in last 100 is 28.251699368525298\n",
      "Last 100 was better, going to save it\n",
      " Total score (averaged over agents) 336 episode: 39.479999117553234 | \tAvarage in last 100 is 28.44119936428964\n",
      "Last 100 was better, going to save it\n",
      " Total score (averaged over agents) 337 episode: 37.12999917007983 | \tAvarage in last 100 is 28.489099363218994\n",
      "Last 100 was better, going to save it\n",
      " Total score (averaged over agents) 339 episode: 22.03999950736761 | \tAvarage in last 100 is 28.481099363397806\n",
      "Last 100 was better, going to save it\n",
      " Total score (averaged over agents) 345 episode: 23.689999470487237 | \tAvarage in last 100 is 28.431999364495276\n",
      "Last 100 was better, going to save it\n",
      " Total score (averaged over agents) 346 episode: 34.46999922953546 | \tAvarage in last 100 is 28.602699360679836\n",
      "Last 100 was better, going to save it\n",
      " Total score (averaged over agents) 347 episode: 27.61999938264489 | \tAvarage in last 100 is 28.627599360123277\n",
      "Last 100 was better, going to save it\n",
      " Total score (averaged over agents) 348 episode: 30.809999311342835 | \tAvarage in last 100 is 28.638899359870702\n",
      "Last 100 was better, going to save it\n",
      " Total score (averaged over agents) 349 episode: 35.42999920807779 | \tAvarage in last 100 is 28.72999935783446\n",
      "Last 100 was better, going to save it\n",
      " Total score (averaged over agents) 350 episode: 35.34999920986593 | \tAvarage in last 100 is 28.862299354877322\n",
      "Last 100 was better, going to save it\n",
      " Total score (averaged over agents) 351 episode: 33.53999925032258 | \tAvarage in last 100 is 28.985199352130294\n",
      "Last 100 was better, going to save it\n",
      " Total score (averaged over agents) 352 episode: 29.379999343305826 | \tAvarage in last 100 is 29.039499350916593\n",
      "Last 100 was better, going to save it\n",
      " Total score (averaged over agents) 354 episode: 23.479999475181103 | \tAvarage in last 100 is 29.049899350684136\n",
      "Last 100 was better, going to save it\n",
      " Total score (averaged over agents) 355 episode: 34.179999236017466 | \tAvarage in last 100 is 29.085999349877238\n",
      "Last 100 was better, going to save it\n",
      " Total score (averaged over agents) 359 episode: 32.589999271556735 | \tAvarage in last 100 is 29.105399349443616\n",
      "Last 100 was better, going to save it\n",
      " Total score (averaged over agents) 360 episode: 33.519999250769615 | \tAvarage in last 100 is 29.279299345556648\n",
      "Last 100 was better, going to save it\n",
      " Total score (averaged over agents) 361 episode: 35.19999921321869 | \tAvarage in last 100 is 29.419999342411757\n",
      "Last 100 was better, going to save it\n",
      " Total score (averaged over agents) 362 episode: 30.94999930821359 | \tAvarage in last 100 is 29.522099340129643\n",
      "Last 100 was better, going to save it\n",
      " Total score (averaged over agents) 366 episode: 23.789999468252063 | \tAvarage in last 100 is 29.666299336906523\n",
      "Last 100 was better, going to save it\n",
      " Total score (averaged over agents) 499 episode: 18.919999577105045 | \tAvarage in last 100 is 28.038699373286217"
     ]
    }
   ],
   "source": [
    "\n",
    "score_history = DDPG_train(new_agent, env, max_t = 1001, num_episodes = 500)\n",
    "#print(score_history)"
   ]
  },
  {
   "source": [
    "# Display and Save results"
   ],
   "cell_type": "markdown",
   "metadata": {}
  },
  {
   "cell_type": "code",
   "execution_count": 13,
   "metadata": {},
   "outputs": [
    {
     "output_type": "display_data",
     "data": {
      "text/plain": "<Figure size 432x288 with 1 Axes>",
      "image/svg+xml": "<?xml version=\"1.0\" encoding=\"utf-8\" standalone=\"no\"?>\r\n<!DOCTYPE svg PUBLIC \"-//W3C//DTD SVG 1.1//EN\"\r\n  \"http://www.w3.org/Graphics/SVG/1.1/DTD/svg11.dtd\">\r\n<!-- Created with matplotlib (https://matplotlib.org/) -->\r\n<svg height=\"262.19625pt\" version=\"1.1\" viewBox=\"0 0 382.603125 262.19625\" width=\"382.603125pt\" xmlns=\"http://www.w3.org/2000/svg\" xmlns:xlink=\"http://www.w3.org/1999/xlink\">\r\n <metadata>\r\n  <rdf:RDF xmlns:cc=\"http://creativecommons.org/ns#\" xmlns:dc=\"http://purl.org/dc/elements/1.1/\" xmlns:rdf=\"http://www.w3.org/1999/02/22-rdf-syntax-ns#\">\r\n   <cc:Work>\r\n    <dc:type rdf:resource=\"http://purl.org/dc/dcmitype/StillImage\"/>\r\n    <dc:date>2021-04-16T17:46:31.442865</dc:date>\r\n    <dc:format>image/svg+xml</dc:format>\r\n    <dc:creator>\r\n     <cc:Agent>\r\n      <dc:title>Matplotlib v3.3.4, https://matplotlib.org/</dc:title>\r\n     </cc:Agent>\r\n    </dc:creator>\r\n   </cc:Work>\r\n  </rdf:RDF>\r\n </metadata>\r\n <defs>\r\n  <style type=\"text/css\">*{stroke-linecap:butt;stroke-linejoin:round;}</style>\r\n </defs>\r\n <g id=\"figure_1\">\r\n  <g id=\"patch_1\">\r\n   <path d=\"M 0 262.19625 \r\nL 382.603125 262.19625 \r\nL 382.603125 0 \r\nL 0 0 \r\nz\r\n\" style=\"fill:none;\"/>\r\n  </g>\r\n  <g id=\"axes_1\">\r\n   <g id=\"patch_2\">\r\n    <path d=\"M 40.603125 224.64 \r\nL 375.403125 224.64 \r\nL 375.403125 7.2 \r\nL 40.603125 7.2 \r\nz\r\n\" style=\"fill:#ffffff;\"/>\r\n   </g>\r\n   <g id=\"matplotlib.axis_1\">\r\n    <g id=\"xtick_1\">\r\n     <g id=\"line2d_1\">\r\n      <defs>\r\n       <path d=\"M 0 0 \r\nL 0 3.5 \r\n\" id=\"m9cdf4da344\" style=\"stroke:#000000;stroke-width:0.8;\"/>\r\n      </defs>\r\n      <g>\r\n       <use style=\"stroke:#000000;stroke-width:0.8;\" x=\"55.21136\" xlink:href=\"#m9cdf4da344\" y=\"224.64\"/>\r\n      </g>\r\n     </g>\r\n     <g id=\"text_1\">\r\n      <!-- 0 -->\r\n      <g transform=\"translate(52.03011 239.238437)scale(0.1 -0.1)\">\r\n       <defs>\r\n        <path d=\"M 31.78125 66.40625 \r\nQ 24.171875 66.40625 20.328125 58.90625 \r\nQ 16.5 51.421875 16.5 36.375 \r\nQ 16.5 21.390625 20.328125 13.890625 \r\nQ 24.171875 6.390625 31.78125 6.390625 \r\nQ 39.453125 6.390625 43.28125 13.890625 \r\nQ 47.125 21.390625 47.125 36.375 \r\nQ 47.125 51.421875 43.28125 58.90625 \r\nQ 39.453125 66.40625 31.78125 66.40625 \r\nz\r\nM 31.78125 74.21875 \r\nQ 44.046875 74.21875 50.515625 64.515625 \r\nQ 56.984375 54.828125 56.984375 36.375 \r\nQ 56.984375 17.96875 50.515625 8.265625 \r\nQ 44.046875 -1.421875 31.78125 -1.421875 \r\nQ 19.53125 -1.421875 13.0625 8.265625 \r\nQ 6.59375 17.96875 6.59375 36.375 \r\nQ 6.59375 54.828125 13.0625 64.515625 \r\nQ 19.53125 74.21875 31.78125 74.21875 \r\nz\r\n\" id=\"DejaVuSans-48\"/>\r\n       </defs>\r\n       <use xlink:href=\"#DejaVuSans-48\"/>\r\n      </g>\r\n     </g>\r\n    </g>\r\n    <g id=\"xtick_2\">\r\n     <g id=\"line2d_2\">\r\n      <g>\r\n       <use style=\"stroke:#000000;stroke-width:0.8;\" x=\"116.206076\" xlink:href=\"#m9cdf4da344\" y=\"224.64\"/>\r\n      </g>\r\n     </g>\r\n     <g id=\"text_2\">\r\n      <!-- 100 -->\r\n      <g transform=\"translate(106.662326 239.238437)scale(0.1 -0.1)\">\r\n       <defs>\r\n        <path d=\"M 12.40625 8.296875 \r\nL 28.515625 8.296875 \r\nL 28.515625 63.921875 \r\nL 10.984375 60.40625 \r\nL 10.984375 69.390625 \r\nL 28.421875 72.90625 \r\nL 38.28125 72.90625 \r\nL 38.28125 8.296875 \r\nL 54.390625 8.296875 \r\nL 54.390625 0 \r\nL 12.40625 0 \r\nz\r\n\" id=\"DejaVuSans-49\"/>\r\n       </defs>\r\n       <use xlink:href=\"#DejaVuSans-49\"/>\r\n       <use x=\"63.623047\" xlink:href=\"#DejaVuSans-48\"/>\r\n       <use x=\"127.246094\" xlink:href=\"#DejaVuSans-48\"/>\r\n      </g>\r\n     </g>\r\n    </g>\r\n    <g id=\"xtick_3\">\r\n     <g id=\"line2d_3\">\r\n      <g>\r\n       <use style=\"stroke:#000000;stroke-width:0.8;\" x=\"177.200793\" xlink:href=\"#m9cdf4da344\" y=\"224.64\"/>\r\n      </g>\r\n     </g>\r\n     <g id=\"text_3\">\r\n      <!-- 200 -->\r\n      <g transform=\"translate(167.657043 239.238437)scale(0.1 -0.1)\">\r\n       <defs>\r\n        <path d=\"M 19.1875 8.296875 \r\nL 53.609375 8.296875 \r\nL 53.609375 0 \r\nL 7.328125 0 \r\nL 7.328125 8.296875 \r\nQ 12.9375 14.109375 22.625 23.890625 \r\nQ 32.328125 33.6875 34.8125 36.53125 \r\nQ 39.546875 41.84375 41.421875 45.53125 \r\nQ 43.3125 49.21875 43.3125 52.78125 \r\nQ 43.3125 58.59375 39.234375 62.25 \r\nQ 35.15625 65.921875 28.609375 65.921875 \r\nQ 23.96875 65.921875 18.8125 64.3125 \r\nQ 13.671875 62.703125 7.8125 59.421875 \r\nL 7.8125 69.390625 \r\nQ 13.765625 71.78125 18.9375 73 \r\nQ 24.125 74.21875 28.421875 74.21875 \r\nQ 39.75 74.21875 46.484375 68.546875 \r\nQ 53.21875 62.890625 53.21875 53.421875 \r\nQ 53.21875 48.921875 51.53125 44.890625 \r\nQ 49.859375 40.875 45.40625 35.40625 \r\nQ 44.1875 33.984375 37.640625 27.21875 \r\nQ 31.109375 20.453125 19.1875 8.296875 \r\nz\r\n\" id=\"DejaVuSans-50\"/>\r\n       </defs>\r\n       <use xlink:href=\"#DejaVuSans-50\"/>\r\n       <use x=\"63.623047\" xlink:href=\"#DejaVuSans-48\"/>\r\n       <use x=\"127.246094\" xlink:href=\"#DejaVuSans-48\"/>\r\n      </g>\r\n     </g>\r\n    </g>\r\n    <g id=\"xtick_4\">\r\n     <g id=\"line2d_4\">\r\n      <g>\r\n       <use style=\"stroke:#000000;stroke-width:0.8;\" x=\"238.19551\" xlink:href=\"#m9cdf4da344\" y=\"224.64\"/>\r\n      </g>\r\n     </g>\r\n     <g id=\"text_4\">\r\n      <!-- 300 -->\r\n      <g transform=\"translate(228.65176 239.238437)scale(0.1 -0.1)\">\r\n       <defs>\r\n        <path d=\"M 40.578125 39.3125 \r\nQ 47.65625 37.796875 51.625 33 \r\nQ 55.609375 28.21875 55.609375 21.1875 \r\nQ 55.609375 10.40625 48.1875 4.484375 \r\nQ 40.765625 -1.421875 27.09375 -1.421875 \r\nQ 22.515625 -1.421875 17.65625 -0.515625 \r\nQ 12.796875 0.390625 7.625 2.203125 \r\nL 7.625 11.71875 \r\nQ 11.71875 9.328125 16.59375 8.109375 \r\nQ 21.484375 6.890625 26.8125 6.890625 \r\nQ 36.078125 6.890625 40.9375 10.546875 \r\nQ 45.796875 14.203125 45.796875 21.1875 \r\nQ 45.796875 27.640625 41.28125 31.265625 \r\nQ 36.765625 34.90625 28.71875 34.90625 \r\nL 20.21875 34.90625 \r\nL 20.21875 43.015625 \r\nL 29.109375 43.015625 \r\nQ 36.375 43.015625 40.234375 45.921875 \r\nQ 44.09375 48.828125 44.09375 54.296875 \r\nQ 44.09375 59.90625 40.109375 62.90625 \r\nQ 36.140625 65.921875 28.71875 65.921875 \r\nQ 24.65625 65.921875 20.015625 65.03125 \r\nQ 15.375 64.15625 9.8125 62.3125 \r\nL 9.8125 71.09375 \r\nQ 15.4375 72.65625 20.34375 73.4375 \r\nQ 25.25 74.21875 29.59375 74.21875 \r\nQ 40.828125 74.21875 47.359375 69.109375 \r\nQ 53.90625 64.015625 53.90625 55.328125 \r\nQ 53.90625 49.265625 50.4375 45.09375 \r\nQ 46.96875 40.921875 40.578125 39.3125 \r\nz\r\n\" id=\"DejaVuSans-51\"/>\r\n       </defs>\r\n       <use xlink:href=\"#DejaVuSans-51\"/>\r\n       <use x=\"63.623047\" xlink:href=\"#DejaVuSans-48\"/>\r\n       <use x=\"127.246094\" xlink:href=\"#DejaVuSans-48\"/>\r\n      </g>\r\n     </g>\r\n    </g>\r\n    <g id=\"xtick_5\">\r\n     <g id=\"line2d_5\">\r\n      <g>\r\n       <use style=\"stroke:#000000;stroke-width:0.8;\" x=\"299.190226\" xlink:href=\"#m9cdf4da344\" y=\"224.64\"/>\r\n      </g>\r\n     </g>\r\n     <g id=\"text_5\">\r\n      <!-- 400 -->\r\n      <g transform=\"translate(289.646476 239.238437)scale(0.1 -0.1)\">\r\n       <defs>\r\n        <path d=\"M 37.796875 64.3125 \r\nL 12.890625 25.390625 \r\nL 37.796875 25.390625 \r\nz\r\nM 35.203125 72.90625 \r\nL 47.609375 72.90625 \r\nL 47.609375 25.390625 \r\nL 58.015625 25.390625 \r\nL 58.015625 17.1875 \r\nL 47.609375 17.1875 \r\nL 47.609375 0 \r\nL 37.796875 0 \r\nL 37.796875 17.1875 \r\nL 4.890625 17.1875 \r\nL 4.890625 26.703125 \r\nz\r\n\" id=\"DejaVuSans-52\"/>\r\n       </defs>\r\n       <use xlink:href=\"#DejaVuSans-52\"/>\r\n       <use x=\"63.623047\" xlink:href=\"#DejaVuSans-48\"/>\r\n       <use x=\"127.246094\" xlink:href=\"#DejaVuSans-48\"/>\r\n      </g>\r\n     </g>\r\n    </g>\r\n    <g id=\"xtick_6\">\r\n     <g id=\"line2d_6\">\r\n      <g>\r\n       <use style=\"stroke:#000000;stroke-width:0.8;\" x=\"360.184943\" xlink:href=\"#m9cdf4da344\" y=\"224.64\"/>\r\n      </g>\r\n     </g>\r\n     <g id=\"text_6\">\r\n      <!-- 500 -->\r\n      <g transform=\"translate(350.641193 239.238437)scale(0.1 -0.1)\">\r\n       <defs>\r\n        <path d=\"M 10.796875 72.90625 \r\nL 49.515625 72.90625 \r\nL 49.515625 64.59375 \r\nL 19.828125 64.59375 \r\nL 19.828125 46.734375 \r\nQ 21.96875 47.46875 24.109375 47.828125 \r\nQ 26.265625 48.1875 28.421875 48.1875 \r\nQ 40.625 48.1875 47.75 41.5 \r\nQ 54.890625 34.8125 54.890625 23.390625 \r\nQ 54.890625 11.625 47.5625 5.09375 \r\nQ 40.234375 -1.421875 26.90625 -1.421875 \r\nQ 22.3125 -1.421875 17.546875 -0.640625 \r\nQ 12.796875 0.140625 7.71875 1.703125 \r\nL 7.71875 11.625 \r\nQ 12.109375 9.234375 16.796875 8.0625 \r\nQ 21.484375 6.890625 26.703125 6.890625 \r\nQ 35.15625 6.890625 40.078125 11.328125 \r\nQ 45.015625 15.765625 45.015625 23.390625 \r\nQ 45.015625 31 40.078125 35.4375 \r\nQ 35.15625 39.890625 26.703125 39.890625 \r\nQ 22.75 39.890625 18.8125 39.015625 \r\nQ 14.890625 38.140625 10.796875 36.28125 \r\nz\r\n\" id=\"DejaVuSans-53\"/>\r\n       </defs>\r\n       <use xlink:href=\"#DejaVuSans-53\"/>\r\n       <use x=\"63.623047\" xlink:href=\"#DejaVuSans-48\"/>\r\n       <use x=\"127.246094\" xlink:href=\"#DejaVuSans-48\"/>\r\n      </g>\r\n     </g>\r\n    </g>\r\n    <g id=\"text_7\">\r\n     <!-- Episode # -->\r\n     <g transform=\"translate(182.586719 252.916562)scale(0.1 -0.1)\">\r\n      <defs>\r\n       <path d=\"M 9.8125 72.90625 \r\nL 55.90625 72.90625 \r\nL 55.90625 64.59375 \r\nL 19.671875 64.59375 \r\nL 19.671875 43.015625 \r\nL 54.390625 43.015625 \r\nL 54.390625 34.71875 \r\nL 19.671875 34.71875 \r\nL 19.671875 8.296875 \r\nL 56.78125 8.296875 \r\nL 56.78125 0 \r\nL 9.8125 0 \r\nz\r\n\" id=\"DejaVuSans-69\"/>\r\n       <path d=\"M 18.109375 8.203125 \r\nL 18.109375 -20.796875 \r\nL 9.078125 -20.796875 \r\nL 9.078125 54.6875 \r\nL 18.109375 54.6875 \r\nL 18.109375 46.390625 \r\nQ 20.953125 51.265625 25.265625 53.625 \r\nQ 29.59375 56 35.59375 56 \r\nQ 45.5625 56 51.78125 48.09375 \r\nQ 58.015625 40.1875 58.015625 27.296875 \r\nQ 58.015625 14.40625 51.78125 6.484375 \r\nQ 45.5625 -1.421875 35.59375 -1.421875 \r\nQ 29.59375 -1.421875 25.265625 0.953125 \r\nQ 20.953125 3.328125 18.109375 8.203125 \r\nz\r\nM 48.6875 27.296875 \r\nQ 48.6875 37.203125 44.609375 42.84375 \r\nQ 40.53125 48.484375 33.40625 48.484375 \r\nQ 26.265625 48.484375 22.1875 42.84375 \r\nQ 18.109375 37.203125 18.109375 27.296875 \r\nQ 18.109375 17.390625 22.1875 11.75 \r\nQ 26.265625 6.109375 33.40625 6.109375 \r\nQ 40.53125 6.109375 44.609375 11.75 \r\nQ 48.6875 17.390625 48.6875 27.296875 \r\nz\r\n\" id=\"DejaVuSans-112\"/>\r\n       <path d=\"M 9.421875 54.6875 \r\nL 18.40625 54.6875 \r\nL 18.40625 0 \r\nL 9.421875 0 \r\nz\r\nM 9.421875 75.984375 \r\nL 18.40625 75.984375 \r\nL 18.40625 64.59375 \r\nL 9.421875 64.59375 \r\nz\r\n\" id=\"DejaVuSans-105\"/>\r\n       <path d=\"M 44.28125 53.078125 \r\nL 44.28125 44.578125 \r\nQ 40.484375 46.53125 36.375 47.5 \r\nQ 32.28125 48.484375 27.875 48.484375 \r\nQ 21.1875 48.484375 17.84375 46.4375 \r\nQ 14.5 44.390625 14.5 40.28125 \r\nQ 14.5 37.15625 16.890625 35.375 \r\nQ 19.28125 33.59375 26.515625 31.984375 \r\nL 29.59375 31.296875 \r\nQ 39.15625 29.25 43.1875 25.515625 \r\nQ 47.21875 21.78125 47.21875 15.09375 \r\nQ 47.21875 7.46875 41.1875 3.015625 \r\nQ 35.15625 -1.421875 24.609375 -1.421875 \r\nQ 20.21875 -1.421875 15.453125 -0.5625 \r\nQ 10.6875 0.296875 5.421875 2 \r\nL 5.421875 11.28125 \r\nQ 10.40625 8.6875 15.234375 7.390625 \r\nQ 20.0625 6.109375 24.8125 6.109375 \r\nQ 31.15625 6.109375 34.5625 8.28125 \r\nQ 37.984375 10.453125 37.984375 14.40625 \r\nQ 37.984375 18.0625 35.515625 20.015625 \r\nQ 33.0625 21.96875 24.703125 23.78125 \r\nL 21.578125 24.515625 \r\nQ 13.234375 26.265625 9.515625 29.90625 \r\nQ 5.8125 33.546875 5.8125 39.890625 \r\nQ 5.8125 47.609375 11.28125 51.796875 \r\nQ 16.75 56 26.8125 56 \r\nQ 31.78125 56 36.171875 55.265625 \r\nQ 40.578125 54.546875 44.28125 53.078125 \r\nz\r\n\" id=\"DejaVuSans-115\"/>\r\n       <path d=\"M 30.609375 48.390625 \r\nQ 23.390625 48.390625 19.1875 42.75 \r\nQ 14.984375 37.109375 14.984375 27.296875 \r\nQ 14.984375 17.484375 19.15625 11.84375 \r\nQ 23.34375 6.203125 30.609375 6.203125 \r\nQ 37.796875 6.203125 41.984375 11.859375 \r\nQ 46.1875 17.53125 46.1875 27.296875 \r\nQ 46.1875 37.015625 41.984375 42.703125 \r\nQ 37.796875 48.390625 30.609375 48.390625 \r\nz\r\nM 30.609375 56 \r\nQ 42.328125 56 49.015625 48.375 \r\nQ 55.71875 40.765625 55.71875 27.296875 \r\nQ 55.71875 13.875 49.015625 6.21875 \r\nQ 42.328125 -1.421875 30.609375 -1.421875 \r\nQ 18.84375 -1.421875 12.171875 6.21875 \r\nQ 5.515625 13.875 5.515625 27.296875 \r\nQ 5.515625 40.765625 12.171875 48.375 \r\nQ 18.84375 56 30.609375 56 \r\nz\r\n\" id=\"DejaVuSans-111\"/>\r\n       <path d=\"M 45.40625 46.390625 \r\nL 45.40625 75.984375 \r\nL 54.390625 75.984375 \r\nL 54.390625 0 \r\nL 45.40625 0 \r\nL 45.40625 8.203125 \r\nQ 42.578125 3.328125 38.25 0.953125 \r\nQ 33.9375 -1.421875 27.875 -1.421875 \r\nQ 17.96875 -1.421875 11.734375 6.484375 \r\nQ 5.515625 14.40625 5.515625 27.296875 \r\nQ 5.515625 40.1875 11.734375 48.09375 \r\nQ 17.96875 56 27.875 56 \r\nQ 33.9375 56 38.25 53.625 \r\nQ 42.578125 51.265625 45.40625 46.390625 \r\nz\r\nM 14.796875 27.296875 \r\nQ 14.796875 17.390625 18.875 11.75 \r\nQ 22.953125 6.109375 30.078125 6.109375 \r\nQ 37.203125 6.109375 41.296875 11.75 \r\nQ 45.40625 17.390625 45.40625 27.296875 \r\nQ 45.40625 37.203125 41.296875 42.84375 \r\nQ 37.203125 48.484375 30.078125 48.484375 \r\nQ 22.953125 48.484375 18.875 42.84375 \r\nQ 14.796875 37.203125 14.796875 27.296875 \r\nz\r\n\" id=\"DejaVuSans-100\"/>\r\n       <path d=\"M 56.203125 29.59375 \r\nL 56.203125 25.203125 \r\nL 14.890625 25.203125 \r\nQ 15.484375 15.921875 20.484375 11.0625 \r\nQ 25.484375 6.203125 34.421875 6.203125 \r\nQ 39.59375 6.203125 44.453125 7.46875 \r\nQ 49.3125 8.734375 54.109375 11.28125 \r\nL 54.109375 2.78125 \r\nQ 49.265625 0.734375 44.1875 -0.34375 \r\nQ 39.109375 -1.421875 33.890625 -1.421875 \r\nQ 20.796875 -1.421875 13.15625 6.1875 \r\nQ 5.515625 13.8125 5.515625 26.8125 \r\nQ 5.515625 40.234375 12.765625 48.109375 \r\nQ 20.015625 56 32.328125 56 \r\nQ 43.359375 56 49.78125 48.890625 \r\nQ 56.203125 41.796875 56.203125 29.59375 \r\nz\r\nM 47.21875 32.234375 \r\nQ 47.125 39.59375 43.09375 43.984375 \r\nQ 39.0625 48.390625 32.421875 48.390625 \r\nQ 24.90625 48.390625 20.390625 44.140625 \r\nQ 15.875 39.890625 15.1875 32.171875 \r\nz\r\n\" id=\"DejaVuSans-101\"/>\r\n       <path id=\"DejaVuSans-32\"/>\r\n       <path d=\"M 51.125 44 \r\nL 36.921875 44 \r\nL 32.8125 27.6875 \r\nL 47.125 27.6875 \r\nz\r\nM 43.796875 71.78125 \r\nL 38.71875 51.515625 \r\nL 52.984375 51.515625 \r\nL 58.109375 71.78125 \r\nL 65.921875 71.78125 \r\nL 60.890625 51.515625 \r\nL 76.125 51.515625 \r\nL 76.125 44 \r\nL 58.984375 44 \r\nL 54.984375 27.6875 \r\nL 70.515625 27.6875 \r\nL 70.515625 20.21875 \r\nL 53.078125 20.21875 \r\nL 48 0 \r\nL 40.1875 0 \r\nL 45.21875 20.21875 \r\nL 30.90625 20.21875 \r\nL 25.875 0 \r\nL 18.015625 0 \r\nL 23.09375 20.21875 \r\nL 7.71875 20.21875 \r\nL 7.71875 27.6875 \r\nL 24.90625 27.6875 \r\nL 29 44 \r\nL 13.28125 44 \r\nL 13.28125 51.515625 \r\nL 30.90625 51.515625 \r\nL 35.890625 71.78125 \r\nz\r\n\" id=\"DejaVuSans-35\"/>\r\n      </defs>\r\n      <use xlink:href=\"#DejaVuSans-69\"/>\r\n      <use x=\"63.183594\" xlink:href=\"#DejaVuSans-112\"/>\r\n      <use x=\"126.660156\" xlink:href=\"#DejaVuSans-105\"/>\r\n      <use x=\"154.443359\" xlink:href=\"#DejaVuSans-115\"/>\r\n      <use x=\"206.542969\" xlink:href=\"#DejaVuSans-111\"/>\r\n      <use x=\"267.724609\" xlink:href=\"#DejaVuSans-100\"/>\r\n      <use x=\"331.201172\" xlink:href=\"#DejaVuSans-101\"/>\r\n      <use x=\"392.724609\" xlink:href=\"#DejaVuSans-32\"/>\r\n      <use x=\"424.511719\" xlink:href=\"#DejaVuSans-35\"/>\r\n     </g>\r\n    </g>\r\n   </g>\r\n   <g id=\"matplotlib.axis_2\">\r\n    <g id=\"ytick_1\">\r\n     <g id=\"line2d_7\">\r\n      <defs>\r\n       <path d=\"M 0 0 \r\nL -3.5 0 \r\n\" id=\"mf0f024f459\" style=\"stroke:#000000;stroke-width:0.8;\"/>\r\n      </defs>\r\n      <g>\r\n       <use style=\"stroke:#000000;stroke-width:0.8;\" x=\"40.603125\" xlink:href=\"#mf0f024f459\" y=\"214.756364\"/>\r\n      </g>\r\n     </g>\r\n     <g id=\"text_8\">\r\n      <!-- 0 -->\r\n      <g transform=\"translate(27.240625 218.555582)scale(0.1 -0.1)\">\r\n       <use xlink:href=\"#DejaVuSans-48\"/>\r\n      </g>\r\n     </g>\r\n    </g>\r\n    <g id=\"ytick_2\">\r\n     <g id=\"line2d_8\">\r\n      <g>\r\n       <use style=\"stroke:#000000;stroke-width:0.8;\" x=\"40.603125\" xlink:href=\"#mf0f024f459\" y=\"189.740832\"/>\r\n      </g>\r\n     </g>\r\n     <g id=\"text_9\">\r\n      <!-- 5 -->\r\n      <g transform=\"translate(27.240625 193.540051)scale(0.1 -0.1)\">\r\n       <use xlink:href=\"#DejaVuSans-53\"/>\r\n      </g>\r\n     </g>\r\n    </g>\r\n    <g id=\"ytick_3\">\r\n     <g id=\"line2d_9\">\r\n      <g>\r\n       <use style=\"stroke:#000000;stroke-width:0.8;\" x=\"40.603125\" xlink:href=\"#mf0f024f459\" y=\"164.7253\"/>\r\n      </g>\r\n     </g>\r\n     <g id=\"text_10\">\r\n      <!-- 10 -->\r\n      <g transform=\"translate(20.878125 168.524519)scale(0.1 -0.1)\">\r\n       <use xlink:href=\"#DejaVuSans-49\"/>\r\n       <use x=\"63.623047\" xlink:href=\"#DejaVuSans-48\"/>\r\n      </g>\r\n     </g>\r\n    </g>\r\n    <g id=\"ytick_4\">\r\n     <g id=\"line2d_10\">\r\n      <g>\r\n       <use style=\"stroke:#000000;stroke-width:0.8;\" x=\"40.603125\" xlink:href=\"#mf0f024f459\" y=\"139.709768\"/>\r\n      </g>\r\n     </g>\r\n     <g id=\"text_11\">\r\n      <!-- 15 -->\r\n      <g transform=\"translate(20.878125 143.508987)scale(0.1 -0.1)\">\r\n       <use xlink:href=\"#DejaVuSans-49\"/>\r\n       <use x=\"63.623047\" xlink:href=\"#DejaVuSans-53\"/>\r\n      </g>\r\n     </g>\r\n    </g>\r\n    <g id=\"ytick_5\">\r\n     <g id=\"line2d_11\">\r\n      <g>\r\n       <use style=\"stroke:#000000;stroke-width:0.8;\" x=\"40.603125\" xlink:href=\"#mf0f024f459\" y=\"114.694237\"/>\r\n      </g>\r\n     </g>\r\n     <g id=\"text_12\">\r\n      <!-- 20 -->\r\n      <g transform=\"translate(20.878125 118.493455)scale(0.1 -0.1)\">\r\n       <use xlink:href=\"#DejaVuSans-50\"/>\r\n       <use x=\"63.623047\" xlink:href=\"#DejaVuSans-48\"/>\r\n      </g>\r\n     </g>\r\n    </g>\r\n    <g id=\"ytick_6\">\r\n     <g id=\"line2d_12\">\r\n      <g>\r\n       <use style=\"stroke:#000000;stroke-width:0.8;\" x=\"40.603125\" xlink:href=\"#mf0f024f459\" y=\"89.678705\"/>\r\n      </g>\r\n     </g>\r\n     <g id=\"text_13\">\r\n      <!-- 25 -->\r\n      <g transform=\"translate(20.878125 93.477924)scale(0.1 -0.1)\">\r\n       <use xlink:href=\"#DejaVuSans-50\"/>\r\n       <use x=\"63.623047\" xlink:href=\"#DejaVuSans-53\"/>\r\n      </g>\r\n     </g>\r\n    </g>\r\n    <g id=\"ytick_7\">\r\n     <g id=\"line2d_13\">\r\n      <g>\r\n       <use style=\"stroke:#000000;stroke-width:0.8;\" x=\"40.603125\" xlink:href=\"#mf0f024f459\" y=\"64.663173\"/>\r\n      </g>\r\n     </g>\r\n     <g id=\"text_14\">\r\n      <!-- 30 -->\r\n      <g transform=\"translate(20.878125 68.462392)scale(0.1 -0.1)\">\r\n       <use xlink:href=\"#DejaVuSans-51\"/>\r\n       <use x=\"63.623047\" xlink:href=\"#DejaVuSans-48\"/>\r\n      </g>\r\n     </g>\r\n    </g>\r\n    <g id=\"ytick_8\">\r\n     <g id=\"line2d_14\">\r\n      <g>\r\n       <use style=\"stroke:#000000;stroke-width:0.8;\" x=\"40.603125\" xlink:href=\"#mf0f024f459\" y=\"39.647642\"/>\r\n      </g>\r\n     </g>\r\n     <g id=\"text_15\">\r\n      <!-- 35 -->\r\n      <g transform=\"translate(20.878125 43.44686)scale(0.1 -0.1)\">\r\n       <use xlink:href=\"#DejaVuSans-51\"/>\r\n       <use x=\"63.623047\" xlink:href=\"#DejaVuSans-53\"/>\r\n      </g>\r\n     </g>\r\n    </g>\r\n    <g id=\"ytick_9\">\r\n     <g id=\"line2d_15\">\r\n      <g>\r\n       <use style=\"stroke:#000000;stroke-width:0.8;\" x=\"40.603125\" xlink:href=\"#mf0f024f459\" y=\"14.63211\"/>\r\n      </g>\r\n     </g>\r\n     <g id=\"text_16\">\r\n      <!-- 40 -->\r\n      <g transform=\"translate(20.878125 18.431329)scale(0.1 -0.1)\">\r\n       <use xlink:href=\"#DejaVuSans-52\"/>\r\n       <use x=\"63.623047\" xlink:href=\"#DejaVuSans-48\"/>\r\n      </g>\r\n     </g>\r\n    </g>\r\n    <g id=\"text_17\">\r\n     <!-- Score -->\r\n     <g transform=\"translate(14.798438 129.922344)rotate(-90)scale(0.1 -0.1)\">\r\n      <defs>\r\n       <path d=\"M 53.515625 70.515625 \r\nL 53.515625 60.890625 \r\nQ 47.90625 63.578125 42.921875 64.890625 \r\nQ 37.9375 66.21875 33.296875 66.21875 \r\nQ 25.25 66.21875 20.875 63.09375 \r\nQ 16.5 59.96875 16.5 54.203125 \r\nQ 16.5 49.359375 19.40625 46.890625 \r\nQ 22.3125 44.4375 30.421875 42.921875 \r\nL 36.375 41.703125 \r\nQ 47.40625 39.59375 52.65625 34.296875 \r\nQ 57.90625 29 57.90625 20.125 \r\nQ 57.90625 9.515625 50.796875 4.046875 \r\nQ 43.703125 -1.421875 29.984375 -1.421875 \r\nQ 24.8125 -1.421875 18.96875 -0.25 \r\nQ 13.140625 0.921875 6.890625 3.21875 \r\nL 6.890625 13.375 \r\nQ 12.890625 10.015625 18.65625 8.296875 \r\nQ 24.421875 6.59375 29.984375 6.59375 \r\nQ 38.421875 6.59375 43.015625 9.90625 \r\nQ 47.609375 13.234375 47.609375 19.390625 \r\nQ 47.609375 24.75 44.3125 27.78125 \r\nQ 41.015625 30.8125 33.5 32.328125 \r\nL 27.484375 33.5 \r\nQ 16.453125 35.6875 11.515625 40.375 \r\nQ 6.59375 45.0625 6.59375 53.421875 \r\nQ 6.59375 63.09375 13.40625 68.65625 \r\nQ 20.21875 74.21875 32.171875 74.21875 \r\nQ 37.3125 74.21875 42.625 73.28125 \r\nQ 47.953125 72.359375 53.515625 70.515625 \r\nz\r\n\" id=\"DejaVuSans-83\"/>\r\n       <path d=\"M 48.78125 52.59375 \r\nL 48.78125 44.1875 \r\nQ 44.96875 46.296875 41.140625 47.34375 \r\nQ 37.3125 48.390625 33.40625 48.390625 \r\nQ 24.65625 48.390625 19.8125 42.84375 \r\nQ 14.984375 37.3125 14.984375 27.296875 \r\nQ 14.984375 17.28125 19.8125 11.734375 \r\nQ 24.65625 6.203125 33.40625 6.203125 \r\nQ 37.3125 6.203125 41.140625 7.25 \r\nQ 44.96875 8.296875 48.78125 10.40625 \r\nL 48.78125 2.09375 \r\nQ 45.015625 0.34375 40.984375 -0.53125 \r\nQ 36.96875 -1.421875 32.421875 -1.421875 \r\nQ 20.0625 -1.421875 12.78125 6.34375 \r\nQ 5.515625 14.109375 5.515625 27.296875 \r\nQ 5.515625 40.671875 12.859375 48.328125 \r\nQ 20.21875 56 33.015625 56 \r\nQ 37.15625 56 41.109375 55.140625 \r\nQ 45.0625 54.296875 48.78125 52.59375 \r\nz\r\n\" id=\"DejaVuSans-99\"/>\r\n       <path d=\"M 41.109375 46.296875 \r\nQ 39.59375 47.171875 37.8125 47.578125 \r\nQ 36.03125 48 33.890625 48 \r\nQ 26.265625 48 22.1875 43.046875 \r\nQ 18.109375 38.09375 18.109375 28.8125 \r\nL 18.109375 0 \r\nL 9.078125 0 \r\nL 9.078125 54.6875 \r\nL 18.109375 54.6875 \r\nL 18.109375 46.1875 \r\nQ 20.953125 51.171875 25.484375 53.578125 \r\nQ 30.03125 56 36.53125 56 \r\nQ 37.453125 56 38.578125 55.875 \r\nQ 39.703125 55.765625 41.0625 55.515625 \r\nz\r\n\" id=\"DejaVuSans-114\"/>\r\n      </defs>\r\n      <use xlink:href=\"#DejaVuSans-83\"/>\r\n      <use x=\"63.476562\" xlink:href=\"#DejaVuSans-99\"/>\r\n      <use x=\"118.457031\" xlink:href=\"#DejaVuSans-111\"/>\r\n      <use x=\"179.638672\" xlink:href=\"#DejaVuSans-114\"/>\r\n      <use x=\"218.501953\" xlink:href=\"#DejaVuSans-101\"/>\r\n     </g>\r\n    </g>\r\n   </g>\r\n   <g id=\"line2d_16\">\r\n    <path clip-path=\"url(#p6d54c83a19)\" d=\"M 55.821307 211.504345 \r\nL 56.431254 214.756364 \r\nL 57.041201 214.356115 \r\nL 57.651148 214.406146 \r\nL 58.261095 213.605649 \r\nL 59.48099 208.652574 \r\nL 60.090937 212.855183 \r\nL 60.700884 206.10099 \r\nL 61.310831 212.70509 \r\nL 61.920778 212.755121 \r\nL 62.530726 214.756364 \r\nL 63.140673 214.756364 \r\nL 63.75062 204.099747 \r\nL 64.360567 210.403661 \r\nL 65.580461 210.80391 \r\nL 66.190409 209.85332 \r\nL 66.800356 210.153506 \r\nL 67.410303 211.654438 \r\nL 68.02025 206.651332 \r\nL 68.630197 211.104096 \r\nL 69.240144 205.1504 \r\nL 69.850092 208.852698 \r\nL 70.460039 211.254189 \r\nL 71.679933 204.550027 \r\nL 72.28988 203.899623 \r\nL 72.899827 205.400555 \r\nL 73.509775 210.103475 \r\nL 74.119722 212.004655 \r\nL 74.729669 207.902108 \r\nL 75.339616 207.952139 \r\nL 75.949563 185.83841 \r\nL 76.55951 197.445616 \r\nL 77.169458 187.139217 \r\nL 77.779405 206.000928 \r\nL 78.389352 199.747045 \r\nL 78.999299 206.251083 \r\nL 79.609246 206.351145 \r\nL 80.219194 203.249219 \r\nL 80.829141 192.542572 \r\nL 81.439088 194.894032 \r\nL 82.049035 202.498753 \r\nL 82.658982 195.844622 \r\nL 83.268929 204.70012 \r\nL 83.878877 184.687695 \r\nL 84.488824 200.197324 \r\nL 85.098771 187.639528 \r\nL 85.708718 191.642013 \r\nL 86.318665 179.984775 \r\nL 86.928612 193.192976 \r\nL 87.53856 186.538844 \r\nL 88.148507 201.197946 \r\nL 88.758454 201.097884 \r\nL 89.368401 194.844001 \r\nL 89.978348 195.894653 \r\nL 90.588295 190.791485 \r\nL 91.198243 206.651332 \r\nL 91.80819 183.687074 \r\nL 92.418137 199.546921 \r\nL 93.028084 193.743317 \r\nL 93.638031 200.247356 \r\nL 94.247978 200.547542 \r\nL 94.857926 184.237416 \r\nL 95.467873 186.789 \r\nL 96.07782 198.346175 \r\nL 96.687767 191.642013 \r\nL 97.297714 181.585769 \r\nL 97.907661 147.914864 \r\nL 98.517609 190.841516 \r\nL 99.127556 187.939714 \r\nL 99.737503 174.08111 \r\nL 100.34745 187.389373 \r\nL 100.957397 192.092292 \r\nL 101.567344 186.738969 \r\nL 102.177292 161.073034 \r\nL 102.787239 186.889062 \r\nL 103.397186 179.784651 \r\nL 104.007133 182.686453 \r\nL 104.61708 189.390615 \r\nL 105.227027 181.585769 \r\nL 105.836975 190.591361 \r\nL 106.446922 169.978563 \r\nL 107.056869 191.091671 \r\nL 107.666816 183.086701 \r\nL 108.276763 182.886577 \r\nL 109.496658 202.248598 \r\nL 110.106605 179.484465 \r\nL 110.716552 125.901197 \r\nL 111.326499 178.133626 \r\nL 111.936446 189.940957 \r\nL 112.546393 189.390615 \r\nL 113.156341 178.78403 \r\nL 113.766288 178.583906 \r\nL 114.376235 185.738347 \r\nL 114.986182 206.451207 \r\nL 115.596129 174.281234 \r\nL 116.206076 169.078004 \r\nL 116.816024 171.629588 \r\nL 117.425971 151.166883 \r\nL 118.035918 199.596952 \r\nL 118.645865 176.182415 \r\nL 119.255812 173.180551 \r\nL 120.475707 146.063715 \r\nL 121.085654 182.536359 \r\nL 121.695601 177.082974 \r\nL 122.305548 152.117474 \r\nL 122.915495 189.440646 \r\nL 123.525442 170.879122 \r\nL 124.13539 163.974835 \r\nL 124.745337 173.981048 \r\nL 125.355284 152.067443 \r\nL 125.965231 174.931638 \r\nL 126.575178 156.16999 \r\nL 127.185125 170.528905 \r\nL 127.795073 157.570859 \r\nL 128.40502 156.320083 \r\nL 129.014967 164.875394 \r\nL 129.624914 114.794301 \r\nL 130.234861 182.686453 \r\nL 130.844808 158.671543 \r\nL 131.454756 156.770362 \r\nL 132.064703 159.02176 \r\nL 132.67465 150.816666 \r\nL 133.284597 128.002502 \r\nL 133.894544 137.80859 \r\nL 134.504491 194.443752 \r\nL 135.114439 170.228718 \r\nL 135.724386 187.28931 \r\nL 136.334333 134.306415 \r\nL 136.94428 180.435055 \r\nL 137.554227 149.11561 \r\nL 138.164174 127.502191 \r\nL 138.774122 150.616542 \r\nL 139.384069 151.717225 \r\nL 139.994016 162.573966 \r\nL 140.603963 139.159428 \r\nL 141.21391 126.451539 \r\nL 141.823857 167.126792 \r\nL 142.433805 159.071791 \r\nL 143.043752 144.86297 \r\nL 143.653699 154.76912 \r\nL 144.263646 138.809211 \r\nL 144.873593 144.662845 \r\nL 145.48354 124.500327 \r\nL 146.093488 118.246444 \r\nL 146.703435 100.785604 \r\nL 147.313382 144.662845 \r\nL 147.923329 154.468934 \r\nL 148.533276 135.407099 \r\nL 149.143223 126.201383 \r\nL 149.753171 165.325674 \r\nL 150.363118 170.428842 \r\nL 150.973065 157.520828 \r\nL 151.583012 119.647314 \r\nL 152.192959 93.130851 \r\nL 152.802906 162.77409 \r\nL 153.412854 141.260733 \r\nL 154.022801 132.855515 \r\nL 154.632748 143.862348 \r\nL 155.242695 143.912379 \r\nL 155.852642 111.092002 \r\nL 156.462589 146.013684 \r\nL 157.072537 85.926378 \r\nL 157.682484 150.366386 \r\nL 158.292431 86.726875 \r\nL 158.902378 123.849923 \r\nL 159.512325 146.76415 \r\nL 160.122272 112.642965 \r\nL 160.73222 139.059366 \r\nL 161.342167 115.144519 \r\nL 161.952114 110.541661 \r\nL 162.562061 128.802999 \r\nL 163.172008 93.330975 \r\nL 163.781955 127.101942 \r\nL 164.391903 124.300203 \r\nL 165.00185 157.670922 \r\nL 165.611797 125.250793 \r\nL 166.221744 106.789331 \r\nL 166.831691 126.05129 \r\nL 167.441638 70.316687 \r\nL 168.051586 71.967712 \r\nL 168.661533 92.080199 \r\nL 169.27148 85.676223 \r\nL 169.881427 106.238989 \r\nL 170.491374 133.305794 \r\nL 171.101321 95.382249 \r\nL 171.711269 126.251414 \r\nL 172.321216 112.84309 \r\nL 172.931163 108.190201 \r\nL 174.151057 128.802999 \r\nL 174.761004 112.743028 \r\nL 175.370952 90.529236 \r\nL 175.980899 127.101942 \r\nL 176.590846 104.738058 \r\nL 177.200793 97.633647 \r\nL 177.81074 93.381006 \r\nL 178.420687 96.733088 \r\nL 179.030635 80.472992 \r\nL 179.640582 95.88256 \r\nL 180.250529 98.484175 \r\nL 180.860476 102.086411 \r\nL 181.470423 90.179018 \r\nL 182.08037 141.160671 \r\nL 182.690318 115.044456 \r\nL 183.300265 104.738058 \r\nL 183.910212 53.456219 \r\nL 184.520159 87.577403 \r\nL 185.130106 113.443462 \r\nL 185.740053 67.915196 \r\nL 186.350001 56.207927 \r\nL 186.959948 91.279702 \r\nL 187.569895 101.636132 \r\nL 188.179842 120.547873 \r\nL 188.789789 92.13023 \r\nL 189.399736 74.369203 \r\nL 190.009684 86.97703 \r\nL 190.619631 57.808921 \r\nL 191.229578 68.615631 \r\nL 191.839525 91.780012 \r\nL 192.449472 45.50128 \r\nL 193.059419 50.2042 \r\nL 193.669367 85.476099 \r\nL 194.279314 109.891257 \r\nL 194.889261 58.459325 \r\nL 195.499208 107.289642 \r\nL 196.719102 82.574297 \r\nL 197.32905 112.542903 \r\nL 197.938997 79.472371 \r\nL 198.548944 82.274111 \r\nL 199.158891 66.664419 \r\nL 199.768838 112.042593 \r\nL 200.378785 52.955908 \r\nL 200.988733 126.551601 \r\nL 201.59868 61.010909 \r\nL 202.208627 102.886908 \r\nL 202.818574 58.009045 \r\nL 203.428521 67.564978 \r\nL 204.038468 51.6551 \r\nL 204.648416 72.968333 \r\nL 205.258363 82.624328 \r\nL 205.86831 127.702315 \r\nL 206.478257 89.028304 \r\nL 207.088204 66.264171 \r\nL 207.698151 83.074608 \r\nL 208.308099 104.087654 \r\nL 208.918046 108.440356 \r\nL 209.527993 94.931969 \r\nL 210.13794 84.625571 \r\nL 210.747887 91.67995 \r\nL 211.357834 61.811406 \r\nL 211.967782 77.921408 \r\nL 212.577729 57.458704 \r\nL 213.187676 30.541992 \r\nL 213.797623 101.235883 \r\nL 214.40757 134.05626 \r\nL 215.017517 109.040729 \r\nL 215.627465 110.99194 \r\nL 216.237412 197.595709 \r\nL 216.847359 40.34808 \r\nL 217.457306 76.470507 \r\nL 218.067253 69.366097 \r\nL 218.6772 162.77409 \r\nL 219.287148 46.401839 \r\nL 219.897095 45.201093 \r\nL 220.507042 98.384113 \r\nL 221.116989 50.554417 \r\nL 221.726936 46.501901 \r\nL 222.336883 41.498795 \r\nL 222.946831 132.405235 \r\nL 223.556778 52.055349 \r\nL 224.166725 19.034848 \r\nL 224.776672 91.229671 \r\nL 225.386619 32.092955 \r\nL 225.996566 74.069016 \r\nL 226.606514 38.847148 \r\nL 227.216461 86.376658 \r\nL 227.826408 66.964606 \r\nL 228.436355 72.668147 \r\nL 229.046302 45.701404 \r\nL 229.656249 85.52613 \r\nL 230.266197 35.995378 \r\nL 230.876144 56.207927 \r\nL 231.486091 119.997532 \r\nL 232.096038 139.109397 \r\nL 232.705985 70.917059 \r\nL 233.315932 151.116852 \r\nL 233.92588 64.262928 \r\nL 234.535827 63.86268 \r\nL 235.145774 70.96709 \r\nL 235.755721 49.603827 \r\nL 236.365668 104.287778 \r\nL 236.975615 66.014015 \r\nL 237.585563 64.112835 \r\nL 238.19551 47.252367 \r\nL 238.805457 45.701404 \r\nL 239.415404 82.624328 \r\nL 240.025351 48.453112 \r\nL 240.635298 31.692707 \r\nL 241.245246 21.03609 \r\nL 241.855193 69.165972 \r\nL 242.46514 41.598857 \r\nL 243.075087 73.518675 \r\nL 243.685034 36.145471 \r\nL 244.294981 99.935076 \r\nL 244.904929 62.511841 \r\nL 245.514876 37.946589 \r\nL 246.124823 42.499416 \r\nL 246.73477 59.409915 \r\nL 247.344717 98.984485 \r\nL 247.954664 48.303019 \r\nL 248.564612 89.228428 \r\nL 249.174559 74.319172 \r\nL 249.784506 28.390656 \r\nL 250.394453 41.798981 \r\nL 251.0044 38.947211 \r\nL 251.614347 31.692707 \r\nL 252.224295 75.619979 \r\nL 252.834242 63.312338 \r\nL 253.444189 98.133957 \r\nL 254.054136 93.030789 \r\nL 254.664083 81.32352 \r\nL 255.27403 113.943773 \r\nL 255.883978 52.305504 \r\nL 256.493925 17.083636 \r\nL 257.103872 63.462431 \r\nL 257.713819 179.134247 \r\nL 258.323766 85.52613 \r\nL 258.933713 58.559387 \r\nL 259.543661 26.239321 \r\nL 260.153608 32.493204 \r\nL 260.763555 17.23373 \r\nL 261.373502 28.991029 \r\nL 261.983449 87.077093 \r\nL 262.593396 104.487902 \r\nL 263.203344 54.857088 \r\nL 263.813291 117.395916 \r\nL 264.423238 98.534206 \r\nL 265.033185 53.005939 \r\nL 265.643132 40.248018 \r\nL 266.253079 96.232777 \r\nL 266.863027 42.299292 \r\nL 267.472974 76.570569 \r\nL 268.082921 60.610661 \r\nL 268.692868 37.49631 \r\nL 269.302815 37.896558 \r\nL 269.912762 46.952181 \r\nL 270.52271 67.765103 \r\nL 271.132657 73.818861 \r\nL 271.742604 97.283429 \r\nL 272.352551 43.750193 \r\nL 272.962498 44.800845 \r\nL 273.572445 63.562493 \r\nL 274.182393 97.383491 \r\nL 274.79234 51.705131 \r\nL 275.402287 47.052243 \r\nL 276.012234 38.647024 \r\nL 276.622181 59.910226 \r\nL 277.232128 50.604448 \r\nL 277.842076 88.227807 \r\nL 278.452023 77.07088 \r\nL 279.06197 95.732466 \r\nL 279.671917 87.677465 \r\nL 280.281864 75.569948 \r\nL 280.891811 159.522071 \r\nL 281.501759 145.913622 \r\nL 282.111706 72.81824 \r\nL 282.721653 63.712586 \r\nL 283.3316 80.172806 \r\nL 283.941547 73.918923 \r\nL 284.551494 77.271004 \r\nL 285.161442 73.068395 \r\nL 285.771389 56.708238 \r\nL 286.381336 117.295854 \r\nL 286.991283 85.125881 \r\nL 287.60123 45.051 \r\nL 288.211177 96.83315 \r\nL 288.821125 96.883181 \r\nL 289.431072 71.86765 \r\nL 290.041019 101.185852 \r\nL 291.260913 18.834724 \r\nL 291.87086 56.658207 \r\nL 292.480808 155.769741 \r\nL 293.090755 127.101942 \r\nL 293.700702 52.005318 \r\nL 294.310649 38.546962 \r\nL 294.920596 35.545098 \r\nL 295.530543 88.477962 \r\nL 296.140491 43.299913 \r\nL 296.750438 30.491961 \r\nL 297.360385 90.479205 \r\nL 297.970332 54.656964 \r\nL 298.580279 43.750193 \r\nL 299.190226 39.147335 \r\nL 299.800174 56.408051 \r\nL 300.410121 89.078335 \r\nL 301.020068 89.178397 \r\nL 301.630015 92.330354 \r\nL 302.239962 45.301156 \r\nL 303.459857 102.98697 \r\nL 304.069804 112.943152 \r\nL 304.679751 54.00656 \r\nL 305.289698 59.15976 \r\nL 305.899645 69.566221 \r\nL 306.509592 69.416128 \r\nL 307.11954 102.536691 \r\nL 307.729487 55.85771 \r\nL 308.339434 32.593266 \r\nL 308.949381 33.443794 \r\nL 309.559328 34.644539 \r\nL 310.169275 49.053485 \r\nL 310.779223 54.656964 \r\nL 311.38917 24.638327 \r\nL 311.999117 46.251746 \r\nL 312.609064 97.733709 \r\nL 313.219011 74.169078 \r\nL 313.828958 118.096351 \r\nL 314.438906 132.055018 \r\nL 315.048853 53.206063 \r\nL 315.6588 70.46678 \r\nL 316.268747 63.162245 \r\nL 316.878694 72.217867 \r\nL 317.488641 53.856467 \r\nL 318.098589 77.471129 \r\nL 318.708536 44.800845 \r\nL 319.318483 83.074608 \r\nL 319.92843 38.89718 \r\nL 320.538377 36.895937 \r\nL 321.148324 101.686163 \r\nL 321.758272 60.360505 \r\nL 322.368219 83.925136 \r\nL 322.978166 69.616252 \r\nL 323.588113 59.209791 \r\nL 324.19806 92.080199 \r\nL 324.808007 117.746134 \r\nL 326.027902 76.270383 \r\nL 326.637849 114.644208 \r\nL 327.247796 108.840605 \r\nL 327.857743 120.197656 \r\nL 328.46769 120.998153 \r\nL 329.077638 121.598526 \r\nL 329.687585 73.468644 \r\nL 330.297532 79.022092 \r\nL 330.907479 82.174048 \r\nL 331.517426 63.562493 \r\nL 332.127373 55.707616 \r\nL 332.737321 68.515568 \r\nL 333.347268 89.628677 \r\nL 333.957215 40.147956 \r\nL 334.567162 41.949074 \r\nL 335.177109 103.137064 \r\nL 335.787056 64.663177 \r\nL 336.397004 81.023334 \r\nL 337.006951 93.280944 \r\nL 337.616898 111.142034 \r\nL 338.226845 117.245823 \r\nL 338.836792 114.644208 \r\nL 339.44674 38.797117 \r\nL 340.056687 47.252367 \r\nL 341.276581 71.317308 \r\nL 341.886528 71.817619 \r\nL 343.106423 42.349323 \r\nL 343.71637 77.671253 \r\nL 344.326317 81.673738 \r\nL 344.936264 59.459946 \r\nL 345.546211 74.71942 \r\nL 346.156158 151.166883 \r\nL 347.376053 41.348702 \r\nL 347.986 39.247397 \r\nL 348.595947 43.65013 \r\nL 349.205894 32.142986 \r\nL 349.815841 41.899043 \r\nL 350.425789 42.649509 \r\nL 351.035736 36.295564 \r\nL 351.645683 26.289352 \r\nL 352.25563 112.492872 \r\nL 352.865577 54.256716 \r\nL 353.475524 78.621843 \r\nL 354.085472 55.557523 \r\nL 354.695419 127.402129 \r\nL 355.305366 79.87262 \r\nL 355.915313 47.052243 \r\nL 356.52526 128.702936 \r\nL 357.745155 18.134289 \r\nL 358.355102 105.938803 \r\nL 358.965049 96.482932 \r\nL 359.574996 136.507782 \r\nL 360.184943 120.097594 \r\nL 360.184943 120.097594 \r\n\" style=\"fill:none;stroke:#1f77b4;stroke-linecap:square;stroke-width:1.5;\"/>\r\n   </g>\r\n   <g id=\"patch_3\">\r\n    <path d=\"M 40.603125 224.64 \r\nL 40.603125 7.2 \r\n\" style=\"fill:none;stroke:#000000;stroke-linecap:square;stroke-linejoin:miter;stroke-width:0.8;\"/>\r\n   </g>\r\n   <g id=\"patch_4\">\r\n    <path d=\"M 375.403125 224.64 \r\nL 375.403125 7.2 \r\n\" style=\"fill:none;stroke:#000000;stroke-linecap:square;stroke-linejoin:miter;stroke-width:0.8;\"/>\r\n   </g>\r\n   <g id=\"patch_5\">\r\n    <path d=\"M 40.603125 224.64 \r\nL 375.403125 224.64 \r\n\" style=\"fill:none;stroke:#000000;stroke-linecap:square;stroke-linejoin:miter;stroke-width:0.8;\"/>\r\n   </g>\r\n   <g id=\"patch_6\">\r\n    <path d=\"M 40.603125 7.2 \r\nL 375.403125 7.2 \r\n\" style=\"fill:none;stroke:#000000;stroke-linecap:square;stroke-linejoin:miter;stroke-width:0.8;\"/>\r\n   </g>\r\n  </g>\r\n </g>\r\n <defs>\r\n  <clipPath id=\"p6d54c83a19\">\r\n   <rect height=\"217.44\" width=\"334.8\" x=\"40.603125\" y=\"7.2\"/>\r\n  </clipPath>\r\n </defs>\r\n</svg>\r\n",
      "image/png": "[encoded data removed]"
     },
     "metadata": {
      "needs_background": "light"
     }
    }
   ],
   "source": [
    "# print(score_history)\n",
    "# print(len(score_history))\n",
    "fig = plt.figure()\n",
    "ax = fig.add_subplot(111)\n",
    "plt.plot(np.arange(1, len(score_history)+1), score_history)\n",
    "plt.ylabel('Score')\n",
    "plt.xlabel('Episode #')\n",
    "plt.show()\n",
    "#plt.savefig(\"\")"
   ]
  },
  {
   "cell_type": "code",
   "execution_count": 12,
   "metadata": {},
   "outputs": [],
   "source": [
    "import csv\n",
    "parsed = [float(i) for i in score_history]\n",
    "with open(\"last_score_128_128.csv\", 'w', newline='') as myfile:\n",
    "     wr = csv.writer(myfile, quoting=csv.QUOTE_ALL)\n",
    "     wr.writerow(score_history)"
   ]
  },
  {
   "source": [
    "# Continue last saved run\n",
    "The next to cells \n",
    "- Import the scores of the last run\n",
    "- If we saved weights of the Neural Net load those\n",
    "- Continue training from last place"
   ],
   "cell_type": "markdown",
   "metadata": {}
  },
  {
   "cell_type": "code",
   "execution_count": null,
   "metadata": {},
   "outputs": [],
   "source": [
    "import csv\n",
    "\n",
    "with open('last_score.csv', newline='') as f:\n",
    "    reader = csv.reader(f)\n",
    "    read_score_history = list(reader)[0]"
   ]
  },
  {
   "cell_type": "code",
   "execution_count": null,
   "metadata": {},
   "outputs": [],
   "source": [
    "new_agent = load_previous(new_agent)"
   ]
  },
  {
   "cell_type": "code",
   "execution_count": null,
   "metadata": {},
   "outputs": [],
   "source": [
    "new_score_history = DDPG_train(new_agent, env, max_t = 1001, num_episodes = 150, existing_score=read_score_history)"
   ]
  },
  {
   "cell_type": "code",
   "execution_count": null,
   "metadata": {},
   "outputs": [],
   "source": [
    "# print(new_score_history)\n",
    "parsed = [float(i) for i in new_score_history]\n",
    "# print(parsed)\n",
    "# print(len(new_score_history))\n",
    "fig = plt.figure()\n",
    "ax = fig.add_subplot(111)\n",
    "plt.plot(np.arange(1, len(parsed)+1), parsed)\n",
    "plt.ylabel('Score')\n",
    "plt.xlabel('Episode #')\n",
    "plt.show()"
   ]
  },
  {
   "cell_type": "code",
   "execution_count": null,
   "metadata": {},
   "outputs": [],
   "source": [
    "with open(\"last_score.csv\", 'w', newline='') as myfile:\n",
    "     wr = csv.writer(myfile, quoting=csv.QUOTE_ALL)\n",
    "     wr.writerow(parsed)"
   ]
  },
  {
   "source": [
    "# See how the agent performs"
   ],
   "cell_type": "markdown",
   "metadata": {}
  },
  {
   "cell_type": "code",
   "execution_count": null,
   "metadata": {
    "tags": []
   },
   "outputs": [],
   "source": [
    "%load_ext autoreload\n",
    "%autoreload 2\n",
    "from AGENT import DDPG_Agent\n",
    "\n",
    "new_agent = DDPG_Agent(state_size, action_size, 5)\n",
    "new_agent = load_previous(new_agent)"
   ]
  },
  {
   "cell_type": "code",
   "execution_count": null,
   "metadata": {},
   "outputs": [],
   "source": [
    "def DDPG_eval(agent, env, max_t=100):\n",
    "    env_info = env.reset(train_mode=False)[brain_name]     # reset the environment    \n",
    "    states = env_info.vector_observations                  # get the current state (for each agent)\n",
    "    scores = np.zeros(num_agents)                          # initialize the score (for each agent)\n",
    "    episode_length = 0                                     # measure number of steps allowed before done flag\n",
    "    for i in range(max_t):\n",
    "        # actions = np.random.randn(num_agents, action_size) # select an action (for each agent); randomly!\n",
    "        actions =  np.random.randn(num_agents, action_size) if agent is None else agent.act(states[0]) # select an action (for each agent)\n",
    "        actions = np.clip(actions, -1, 1)                  # all actions between -1 and 1\n",
    "        env_info = env.step(actions)[brain_name]           # send all actions to the environment\n",
    "        next_states = env_info.vector_observations         # get next state (for each agent)\n",
    "        rewards = env_info.rewards                         # get reward (for each agent)\n",
    "        dones = env_info.local_done                        # see if episode finished\n",
    "        scores += env_info.rewards                         # update the score (for each agent)\n",
    "        states = next_states                               # roll over states to next time step\n",
    "        episode_length +=1\n",
    "        if np.any(dones):                                  # exit loop if episode finished\n",
    "            break\n",
    "    print('Episode length is {}'.format(episode_length))\n",
    "    print('Total score (averaged over agents) this episode: {}'.format(np.mean(scores)))"
   ]
  },
  {
   "cell_type": "code",
   "execution_count": null,
   "metadata": {},
   "outputs": [],
   "source": [
    "DDPG_eval(new_agent, env, max_t = 100000000000)"
   ]
  },
  {
   "cell_type": "code",
   "execution_count": null,
   "metadata": {},
   "outputs": [],
   "source": [
    "env.close()"
   ]
  }
 ],
 "metadata": {
  "kernelspec": {
   "name": "python3612jvsc74a57bd021b14e6ae810b98687c42101764fbc6ed2f749f10b37141b42930ea65db4f89b",
   "display_name": "Python 3.6.12 64-bit ('drlnd': conda)"
  }
 },
 "nbformat": 4,
 "nbformat_minor": 2
}