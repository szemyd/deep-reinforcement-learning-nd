{
 "cells": [
  {
   "cell_type": "markdown",
   "metadata": {},
   "source": [
    "# Continuous Control\n",
    "\n",
    "---\n",
    "\n",
    "\n"
   ]
  },
  {
   "source": [
    "# DDPG Agent "
   ],
   "cell_type": "markdown",
   "metadata": {}
  },
  {
   "cell_type": "code",
   "execution_count": 1,
   "metadata": {},
   "outputs": [],
   "source": [
    "import numpy as np\n",
    "import torch\n",
    "import matplotlib.pyplot as plt\n",
    "from collections import deque\n",
    "from statistics import mean, stdev\n",
    "\n",
    "from ENV import environment_loader"
   ]
  },
  {
   "cell_type": "code",
   "execution_count": 2,
   "metadata": {},
   "outputs": [
    {
     "output_type": "stream",
     "name": "stdout",
     "text": [
      "\n--- General Training parameters ---\nDEVICE:  cuda:0\n\n--- Replay Buffer parameters ---\nBUFFER_SIZE:  100000\nUPDATE_EVERY:  4\nBATCH_SIZE:  128\n\n--- Learning parameters ---\nGAMMA:  0.99\nLR_ACTOR:  0.002\nLR_CRITIC:  0.001\nCRITERION:  <function mse_loss at 0x000001D97EAA4EA0>\nWEIGHT_DECAY:  0\nTAU:  0.0013\n"
     ]
    }
   ],
   "source": [
    "%load_ext autoreload\n",
    "%autoreload 2\n",
    "from AGENT import DDPG_Agent"
   ]
  },
  {
   "cell_type": "code",
   "execution_count": 3,
   "metadata": {},
   "outputs": [
    {
     "output_type": "stream",
     "name": "stderr",
     "text": [
      "INFO:unityagents:\n",
      "'Academy' started successfully!\n",
      "Unity Academy name: Academy\n",
      "        Number of Brains: 1\n",
      "        Number of External Brains : 1\n",
      "        Lesson number : 0\n",
      "        Reset Parameters :\n",
      "\t\tgoal_size -> 5.0\n",
      "\t\tgoal_speed -> 1.0\n",
      "Unity brain name: ReacherBrain\n",
      "        Number of Visual Observations (per agent): 0\n",
      "        Vector Observation space type: continuous\n",
      "        Vector Observation space size (per agent): 33\n",
      "        Number of stacked Vector Observation: 1\n",
      "        Vector Action space type: continuous\n",
      "        Vector Action space size (per agent): 4\n",
      "        Vector Action descriptions: , , , \n",
      "Number of agents: 1\n",
      "Size of each action: 4\n",
      "There are 1 agents. Each observes a state with length: 33\n",
      "The state for the first agent looks like: [ 0.00000000e+00 -4.00000000e+00  0.00000000e+00  1.00000000e+00\n",
      " -0.00000000e+00 -0.00000000e+00 -4.37113883e-08  0.00000000e+00\n",
      "  0.00000000e+00  0.00000000e+00  0.00000000e+00  0.00000000e+00\n",
      "  0.00000000e+00  0.00000000e+00 -1.00000000e+01  0.00000000e+00\n",
      "  1.00000000e+00 -0.00000000e+00 -0.00000000e+00 -4.37113883e-08\n",
      "  0.00000000e+00  0.00000000e+00  0.00000000e+00  0.00000000e+00\n",
      "  0.00000000e+00  0.00000000e+00  5.75471878e+00 -1.00000000e+00\n",
      "  5.55726671e+00  0.00000000e+00  1.00000000e+00  0.00000000e+00\n",
      " -1.68164849e-01]\n"
     ]
    }
   ],
   "source": [
    "env, state_size, action_size, brain_name, num_agents = environment_loader(\"Reacher_Single/Reacher.exe\", no_graphics = True)"
   ]
  },
  {
   "cell_type": "code",
   "execution_count": 4,
   "metadata": {},
   "outputs": [],
   "source": [
    "def DDPG_eval(agent, env, max_t=100):\n",
    "    env_info = env.reset(train_mode=False)[brain_name]     # reset the environment    \n",
    "    states = env_info.vector_observations                  # get the current state (for each agent)\n",
    "    scores = np.zeros(num_agents)                          # initialize the score (for each agent)\n",
    "    episode_length = 0                                     # measure number of steps allowed before done flag\n",
    "    for i in range(max_t):\n",
    "        # actions = np.random.randn(num_agents, action_size) # select an action (for each agent); randomly!\n",
    "        actions =  np.random.randn(num_agents, action_size) if agent is None else agent.act(states[0]) # select an action (for each agent)\n",
    "        actions = np.clip(actions, -1, 1)                  # all actions between -1 and 1\n",
    "        env_info = env.step(actions)[brain_name]           # send all actions to the environment\n",
    "        next_states = env_info.vector_observations         # get next state (for each agent)\n",
    "        rewards = env_info.rewards                         # get reward (for each agent)\n",
    "        dones = env_info.local_done                        # see if episode finished\n",
    "        scores += env_info.rewards                         # update the score (for each agent)\n",
    "        states = next_states                               # roll over states to next time step\n",
    "        episode_length +=1\n",
    "        if np.any(dones):                                  # exit loop if episode finished\n",
    "            break\n",
    "    print('Episode length is {}'.format(episode_length))\n",
    "    print('Total score (averaged over agents) this episode: {}'.format(np.mean(scores)))"
   ]
  },
  {
   "cell_type": "code",
   "execution_count": null,
   "metadata": {},
   "outputs": [],
   "source": [
    "DDPG_eval(None, env, max_t=1)"
   ]
  },
  {
   "cell_type": "code",
   "execution_count": 4,
   "metadata": {},
   "outputs": [],
   "source": [
    "def DDPG_train(agent, env, max_t=100, num_episodes = 1, print_every=100, existing_score=[]):\n",
    "    score_history = existing_score\n",
    "    print(\"Initial Score History: \", score_history)\n",
    "    scores_deque = deque(maxlen=print_every)\n",
    "    last_running_mean = float('-inf')\n",
    "\n",
    "    for episode in range(num_episodes):\n",
    "        env_info = env.reset(train_mode=True)[brain_name]      # reset the environment    \n",
    "        agent.reset()                                          # reset the noise in the agent\n",
    "        states = env_info.vector_observations                  # get the current state (for each agent)\n",
    "        scores = np.zeros(num_agents)                          # initialize the score (for each agent)\n",
    "        score = 0\n",
    "\n",
    "        for i in range(max_t):\n",
    "            actions = agent.act(states[0])                     # select an action (for each agent)\n",
    "            #actions = np.clip(actions, -1, 1)                 # all actions between -1 and 1. This is already done in the model\n",
    "            env_info = env.step(actions)[brain_name]           # send all actions to the environment\n",
    "            next_states = env_info.vector_observations         # get next state (for each agent)\n",
    "            rewards = env_info.rewards                         # get reward (for each agent)\n",
    "            dones = env_info.local_done                        # see if episode finished\n",
    "            #print(\"s {}, a {}, r {}, n_s {}, d{}\".format(states[0], actions, rewards[0], next_states[0], dones[0]))\n",
    "            agent.step(states[0], actions, rewards[0], next_states[0], dones[0])\n",
    "\n",
    "            #scores += env_info.rewards                         # update the score (for each agent)\n",
    "            score += env_info.rewards[0]\n",
    "\n",
    "            states = next_states                               # roll over states to next time step\n",
    "            if np.any(dones):                                  # exit loop if episode finished\n",
    "                break\n",
    "        \n",
    "\n",
    "        #returns_in_episode = np.mean(scores)\n",
    "        returns_in_episode = score\n",
    "        scores_deque.append(returns_in_episode)\n",
    "        score_history.append(returns_in_episode)\n",
    "        if episode > print_every:\n",
    "            if mean(scores_deque) > last_running_mean:\n",
    "                    print(\"\")\n",
    "                    print('Last {} was better, going to save it'.format(print_every))\n",
    "                    torch.save(new_agent.actor_local.state_dict(), 'checkpoint_actor.pth')\n",
    "                    torch.save(new_agent.critic_local.state_dict(), 'checkpoint_critic.pth')\n",
    "                    last_running_mean = mean(scores_deque)\n",
    "\n",
    "        print(\"\\r\", 'Total score (averaged over agents) {} episode: {} | \\tAvarage in last {} is {}'.format(episode, returns_in_episode, print_every, np.mean(scores_deque)), end=\"\")\n",
    "        ##print(\"\\r\", 'Scores in {} episode: {}'.format(episode, scores), end=\"\")\n",
    "    \n",
    "\n",
    "    return score_history"
   ]
  },
  {
   "cell_type": "code",
   "execution_count": 5,
   "metadata": {},
   "outputs": [],
   "source": [
    "import os.path\n",
    "\n",
    "filename=\"checkpoint_actor.pth\"\n",
    "path = \"\"\n",
    "\n",
    "def fileAtLocation(filename, path):\n",
    "    return os.path.exists(path + filename)\n",
    "\n",
    "def load_previous(new_agent):\n",
    "    loaded_agent = new_agent\n",
    "    if fileAtLocation(filename, path):\n",
    "        print(\"Found previous trained Agent, going to load them!\")\n",
    "        loaded_agent.actor_local.load_state_dict(torch.load('checkpoint_actor.pth'))\n",
    "        loaded_agent.critic_local.load_state_dict(torch.load('checkpoint_critic.pth'))\n",
    "    return loaded_agent"
   ]
  },
  {
   "cell_type": "code",
   "execution_count": 6,
   "metadata": {},
   "outputs": [
    {
     "output_type": "stream",
     "name": "stdout",
     "text": [
      "\n--- Agent Params ---\nGoing to train on cuda:0\nLearning Rate:: Actor: 0.002 | Critic: 0.001\nReplay Buffer:: Buffer Size: 100000 | Sampled Batch size: 128\n\nActor paramaters:: Input: 33 | Hidden Layers: [128, 128, 128] | Output: 4\nCritic paramaters:: Input: 33 | Hidden Layers: [132, 128, 128] | Output: 1\nActor(\n  (fc_in): Linear(in_features=33, out_features=128, bias=True)\n  (hidden_layers): ModuleList(\n    (0): Linear(in_features=128, out_features=128, bias=True)\n    (1): Linear(in_features=128, out_features=128, bias=True)\n  )\n  (fc_out): Linear(in_features=128, out_features=4, bias=True)\n)\nCritic(\n  (fc_in): Linear(in_features=33, out_features=128, bias=True)\n  (hidden_layers): ModuleList(\n    (0): Linear(in_features=132, out_features=128, bias=True)\n    (1): Linear(in_features=128, out_features=128, bias=True)\n  )\n  (fc_out): Linear(in_features=128, out_features=1, bias=True)\n)\n\n\n"
     ]
    }
   ],
   "source": [
    "new_agent = DDPG_Agent(state_size, action_size, 1, actor_hidden = [128, 128, 128], critic_hidden=[128, 128, 128])\n",
    "##new_agent = load_previous(new_agent)"
   ]
  },
  {
   "cell_type": "code",
   "execution_count": 8,
   "metadata": {
    "tags": []
   },
   "outputs": [
    {
     "output_type": "stream",
     "name": "stdout",
     "text": [
      "Initial Score History:  []\n",
      " Total score (averaged over agents) 100 episode: 0.0 | \tAvarage in last 100 is 0.011099999751895667\n",
      "Last 100 was better, going to save it\n",
      " Total score (averaged over agents) 116 episode: 0.0 | \tAvarage in last 100 is 0.0070999998413026335\n",
      "Last 100 was better, going to save it\n",
      " Total score (averaged over agents) 149 episode: 0.0 | \tAvarage in last 100 is 0.009499999787658453"
     ]
    }
   ],
   "source": [
    "##env.no_graphics = True\n",
    "score_history = DDPG_train(new_agent, env, max_t = 1001, num_episodes = 150)\n",
    "#print(score_history)"
   ]
  },
  {
   "cell_type": "code",
   "execution_count": null,
   "metadata": {},
   "outputs": [],
   "source": [
    "score_history = DDPG_train(new_agent, env, max_t = 1001, num_episodes = 150, existing_score=score_history)"
   ]
  },
  {
   "cell_type": "code",
   "execution_count": 7,
   "metadata": {},
   "outputs": [
    {
     "output_type": "error",
     "ename": "NameError",
     "evalue": "name 'score_history' is not defined",
     "traceback": [
      "\u001b[1;31m---------------------------------------------------------------------------\u001b[0m",
      "\u001b[1;31mNameError\u001b[0m                                 Traceback (most recent call last)",
      "\u001b[1;32m<ipython-input-7-896e55325d28>\u001b[0m in \u001b[0;36m<module>\u001b[1;34m\u001b[0m\n\u001b[1;32m----> 1\u001b[1;33m \u001b[0mprint\u001b[0m\u001b[1;33m(\u001b[0m\u001b[0mscore_history\u001b[0m\u001b[1;33m)\u001b[0m\u001b[1;33m\u001b[0m\u001b[1;33m\u001b[0m\u001b[0m\n\u001b[0m\u001b[0;32m      2\u001b[0m \u001b[0mprint\u001b[0m\u001b[1;33m(\u001b[0m\u001b[0mlen\u001b[0m\u001b[1;33m(\u001b[0m\u001b[0mscore_history\u001b[0m\u001b[1;33m)\u001b[0m\u001b[1;33m)\u001b[0m\u001b[1;33m\u001b[0m\u001b[1;33m\u001b[0m\u001b[0m\n\u001b[0;32m      3\u001b[0m \u001b[0mfig\u001b[0m \u001b[1;33m=\u001b[0m \u001b[0mplt\u001b[0m\u001b[1;33m.\u001b[0m\u001b[0mfigure\u001b[0m\u001b[1;33m(\u001b[0m\u001b[1;33m)\u001b[0m\u001b[1;33m\u001b[0m\u001b[1;33m\u001b[0m\u001b[0m\n\u001b[0;32m      4\u001b[0m \u001b[0max\u001b[0m \u001b[1;33m=\u001b[0m \u001b[0mfig\u001b[0m\u001b[1;33m.\u001b[0m\u001b[0madd_subplot\u001b[0m\u001b[1;33m(\u001b[0m\u001b[1;36m111\u001b[0m\u001b[1;33m)\u001b[0m\u001b[1;33m\u001b[0m\u001b[1;33m\u001b[0m\u001b[0m\n\u001b[0;32m      5\u001b[0m \u001b[0mplt\u001b[0m\u001b[1;33m.\u001b[0m\u001b[0mplot\u001b[0m\u001b[1;33m(\u001b[0m\u001b[0mnp\u001b[0m\u001b[1;33m.\u001b[0m\u001b[0marange\u001b[0m\u001b[1;33m(\u001b[0m\u001b[1;36m1\u001b[0m\u001b[1;33m,\u001b[0m \u001b[0mlen\u001b[0m\u001b[1;33m(\u001b[0m\u001b[0mscore_history\u001b[0m\u001b[1;33m)\u001b[0m\u001b[1;33m+\u001b[0m\u001b[1;36m1\u001b[0m\u001b[1;33m)\u001b[0m\u001b[1;33m,\u001b[0m \u001b[0mscore_history\u001b[0m\u001b[1;33m)\u001b[0m\u001b[1;33m\u001b[0m\u001b[1;33m\u001b[0m\u001b[0m\n",
      "\u001b[1;31mNameError\u001b[0m: name 'score_history' is not defined"
     ]
    }
   ],
   "source": [
    "print(score_history)\n",
    "print(len(score_history))\n",
    "fig = plt.figure()\n",
    "ax = fig.add_subplot(111)\n",
    "plt.plot(np.arange(1, len(score_history)+1), score_history)\n",
    "plt.ylabel('Score')\n",
    "plt.xlabel('Episode #')\n",
    "plt.show()"
   ]
  },
  {
   "cell_type": "code",
   "execution_count": null,
   "metadata": {
    "tags": []
   },
   "outputs": [],
   "source": [
    "%load_ext autoreload\n",
    "%autoreload 2\n",
    "from AGENT import DDPG_Agent\n",
    "\n",
    "new_agent = DDPG_Agent(state_size, action_size, 5)\n",
    "new_agent = load_previous(new_agent)"
   ]
  },
  {
   "cell_type": "code",
   "execution_count": null,
   "metadata": {},
   "outputs": [],
   "source": [
    "DDPG_eval(new_agent, env, max_t = 100000000000)"
   ]
  },
  {
   "cell_type": "code",
   "execution_count": null,
   "metadata": {},
   "outputs": [],
   "source": [
    "env.close()"
   ]
  },
  {
   "cell_type": "code",
   "execution_count": null,
   "metadata": {},
   "outputs": [],
   "source": [
    "torch.cuda.is_available()"
   ]
  },
  {
   "cell_type": "code",
   "execution_count": null,
   "metadata": {},
   "outputs": [],
   "source": []
  },
  {
   "cell_type": "code",
   "execution_count": null,
   "metadata": {},
   "outputs": [],
   "source": []
  }
 ],
 "metadata": {
  "kernelspec": {
   "name": "python3612jvsc74a57bd021b14e6ae810b98687c42101764fbc6ed2f749f10b37141b42930ea65db4f89b",
   "display_name": "Python 3.6.12 64-bit ('drlnd': conda)"
  }
 },
 "nbformat": 4,
 "nbformat_minor": 2
}